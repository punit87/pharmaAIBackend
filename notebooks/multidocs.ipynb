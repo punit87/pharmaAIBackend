{
  "nbformat": 4,
  "nbformat_minor": 0,
  "metadata": {
    "colab": {
      "provenance": []
    },
    "kernelspec": {
      "name": "python3",
      "display_name": "Python 3"
    },
    "language_info": {
      "name": "python"
    }
  },
  "cells": [
    {
      "cell_type": "code",
      "source": [
        "!pip install python-docx pypdf faiss-cpu transformers torch tqdm sentence-transformers fastapi uvicorn pyngrok"
      ],
      "metadata": {
        "colab": {
          "base_uri": "https://localhost:8080/"
        },
        "id": "9kAsKEZrKxk2",
        "outputId": "e8c847de-7c85-4d66-d685-90106c3ecba7"
      },
      "execution_count": 1,
      "outputs": [
        {
          "output_type": "stream",
          "name": "stdout",
          "text": [
            "Requirement already satisfied: python-docx in /usr/local/lib/python3.11/dist-packages (1.1.2)\n",
            "Requirement already satisfied: pypdf in /usr/local/lib/python3.11/dist-packages (5.3.0)\n",
            "Requirement already satisfied: faiss-cpu in /usr/local/lib/python3.11/dist-packages (1.10.0)\n",
            "Requirement already satisfied: transformers in /usr/local/lib/python3.11/dist-packages (4.48.3)\n",
            "Requirement already satisfied: torch in /usr/local/lib/python3.11/dist-packages (2.5.1+cu124)\n",
            "Requirement already satisfied: tqdm in /usr/local/lib/python3.11/dist-packages (4.67.1)\n",
            "Requirement already satisfied: sentence-transformers in /usr/local/lib/python3.11/dist-packages (3.4.1)\n",
            "Requirement already satisfied: fastapi in /usr/local/lib/python3.11/dist-packages (0.115.8)\n",
            "Requirement already satisfied: uvicorn in /usr/local/lib/python3.11/dist-packages (0.34.0)\n",
            "Requirement already satisfied: pyngrok in /usr/local/lib/python3.11/dist-packages (7.2.3)\n",
            "Requirement already satisfied: lxml>=3.1.0 in /usr/local/lib/python3.11/dist-packages (from python-docx) (5.3.1)\n",
            "Requirement already satisfied: typing-extensions>=4.9.0 in /usr/local/lib/python3.11/dist-packages (from python-docx) (4.12.2)\n",
            "Requirement already satisfied: numpy<3.0,>=1.25.0 in /usr/local/lib/python3.11/dist-packages (from faiss-cpu) (1.26.4)\n",
            "Requirement already satisfied: packaging in /usr/local/lib/python3.11/dist-packages (from faiss-cpu) (24.2)\n",
            "Requirement already satisfied: filelock in /usr/local/lib/python3.11/dist-packages (from transformers) (3.17.0)\n",
            "Requirement already satisfied: huggingface-hub<1.0,>=0.24.0 in /usr/local/lib/python3.11/dist-packages (from transformers) (0.28.1)\n",
            "Requirement already satisfied: pyyaml>=5.1 in /usr/local/lib/python3.11/dist-packages (from transformers) (6.0.2)\n",
            "Requirement already satisfied: regex!=2019.12.17 in /usr/local/lib/python3.11/dist-packages (from transformers) (2024.11.6)\n",
            "Requirement already satisfied: requests in /usr/local/lib/python3.11/dist-packages (from transformers) (2.32.3)\n",
            "Requirement already satisfied: tokenizers<0.22,>=0.21 in /usr/local/lib/python3.11/dist-packages (from transformers) (0.21.0)\n",
            "Requirement already satisfied: safetensors>=0.4.1 in /usr/local/lib/python3.11/dist-packages (from transformers) (0.5.2)\n",
            "Requirement already satisfied: networkx in /usr/local/lib/python3.11/dist-packages (from torch) (3.4.2)\n",
            "Requirement already satisfied: jinja2 in /usr/local/lib/python3.11/dist-packages (from torch) (3.1.5)\n",
            "Requirement already satisfied: fsspec in /usr/local/lib/python3.11/dist-packages (from torch) (2024.10.0)\n",
            "Requirement already satisfied: nvidia-cuda-nvrtc-cu12==12.4.127 in /usr/local/lib/python3.11/dist-packages (from torch) (12.4.127)\n",
            "Requirement already satisfied: nvidia-cuda-runtime-cu12==12.4.127 in /usr/local/lib/python3.11/dist-packages (from torch) (12.4.127)\n",
            "Requirement already satisfied: nvidia-cuda-cupti-cu12==12.4.127 in /usr/local/lib/python3.11/dist-packages (from torch) (12.4.127)\n",
            "Requirement already satisfied: nvidia-cudnn-cu12==9.1.0.70 in /usr/local/lib/python3.11/dist-packages (from torch) (9.1.0.70)\n",
            "Requirement already satisfied: nvidia-cublas-cu12==12.4.5.8 in /usr/local/lib/python3.11/dist-packages (from torch) (12.4.5.8)\n",
            "Requirement already satisfied: nvidia-cufft-cu12==11.2.1.3 in /usr/local/lib/python3.11/dist-packages (from torch) (11.2.1.3)\n",
            "Requirement already satisfied: nvidia-curand-cu12==10.3.5.147 in /usr/local/lib/python3.11/dist-packages (from torch) (10.3.5.147)\n",
            "Requirement already satisfied: nvidia-cusolver-cu12==11.6.1.9 in /usr/local/lib/python3.11/dist-packages (from torch) (11.6.1.9)\n",
            "Requirement already satisfied: nvidia-cusparse-cu12==12.3.1.170 in /usr/local/lib/python3.11/dist-packages (from torch) (12.3.1.170)\n",
            "Requirement already satisfied: nvidia-nccl-cu12==2.21.5 in /usr/local/lib/python3.11/dist-packages (from torch) (2.21.5)\n",
            "Requirement already satisfied: nvidia-nvtx-cu12==12.4.127 in /usr/local/lib/python3.11/dist-packages (from torch) (12.4.127)\n",
            "Requirement already satisfied: nvidia-nvjitlink-cu12==12.4.127 in /usr/local/lib/python3.11/dist-packages (from torch) (12.4.127)\n",
            "Requirement already satisfied: triton==3.1.0 in /usr/local/lib/python3.11/dist-packages (from torch) (3.1.0)\n",
            "Requirement already satisfied: sympy==1.13.1 in /usr/local/lib/python3.11/dist-packages (from torch) (1.13.1)\n",
            "Requirement already satisfied: mpmath<1.4,>=1.1.0 in /usr/local/lib/python3.11/dist-packages (from sympy==1.13.1->torch) (1.3.0)\n",
            "Requirement already satisfied: scikit-learn in /usr/local/lib/python3.11/dist-packages (from sentence-transformers) (1.6.1)\n",
            "Requirement already satisfied: scipy in /usr/local/lib/python3.11/dist-packages (from sentence-transformers) (1.13.1)\n",
            "Requirement already satisfied: Pillow in /usr/local/lib/python3.11/dist-packages (from sentence-transformers) (11.1.0)\n",
            "Requirement already satisfied: starlette<0.46.0,>=0.40.0 in /usr/local/lib/python3.11/dist-packages (from fastapi) (0.45.3)\n",
            "Requirement already satisfied: pydantic!=1.8,!=1.8.1,!=2.0.0,!=2.0.1,!=2.1.0,<3.0.0,>=1.7.4 in /usr/local/lib/python3.11/dist-packages (from fastapi) (2.10.6)\n",
            "Requirement already satisfied: click>=7.0 in /usr/local/lib/python3.11/dist-packages (from uvicorn) (8.1.8)\n",
            "Requirement already satisfied: h11>=0.8 in /usr/local/lib/python3.11/dist-packages (from uvicorn) (0.14.0)\n",
            "Requirement already satisfied: annotated-types>=0.6.0 in /usr/local/lib/python3.11/dist-packages (from pydantic!=1.8,!=1.8.1,!=2.0.0,!=2.0.1,!=2.1.0,<3.0.0,>=1.7.4->fastapi) (0.7.0)\n",
            "Requirement already satisfied: pydantic-core==2.27.2 in /usr/local/lib/python3.11/dist-packages (from pydantic!=1.8,!=1.8.1,!=2.0.0,!=2.0.1,!=2.1.0,<3.0.0,>=1.7.4->fastapi) (2.27.2)\n",
            "Requirement already satisfied: anyio<5,>=3.6.2 in /usr/local/lib/python3.11/dist-packages (from starlette<0.46.0,>=0.40.0->fastapi) (3.7.1)\n",
            "Requirement already satisfied: MarkupSafe>=2.0 in /usr/local/lib/python3.11/dist-packages (from jinja2->torch) (3.0.2)\n",
            "Requirement already satisfied: charset-normalizer<4,>=2 in /usr/local/lib/python3.11/dist-packages (from requests->transformers) (3.4.1)\n",
            "Requirement already satisfied: idna<4,>=2.5 in /usr/local/lib/python3.11/dist-packages (from requests->transformers) (3.10)\n",
            "Requirement already satisfied: urllib3<3,>=1.21.1 in /usr/local/lib/python3.11/dist-packages (from requests->transformers) (2.3.0)\n",
            "Requirement already satisfied: certifi>=2017.4.17 in /usr/local/lib/python3.11/dist-packages (from requests->transformers) (2025.1.31)\n",
            "Requirement already satisfied: joblib>=1.2.0 in /usr/local/lib/python3.11/dist-packages (from scikit-learn->sentence-transformers) (1.4.2)\n",
            "Requirement already satisfied: threadpoolctl>=3.1.0 in /usr/local/lib/python3.11/dist-packages (from scikit-learn->sentence-transformers) (3.5.0)\n",
            "Requirement already satisfied: sniffio>=1.1 in /usr/local/lib/python3.11/dist-packages (from anyio<5,>=3.6.2->starlette<0.46.0,>=0.40.0->fastapi) (1.3.1)\n"
          ]
        }
      ]
    },
    {
      "cell_type": "code",
      "execution_count": null,
      "metadata": {
        "colab": {
          "base_uri": "https://localhost:8080/"
        },
        "id": "QYeSUTfGKLj1",
        "outputId": "b0004d44-62e6-430c-d64f-764c3d9e317b"
      },
      "outputs": [
        {
          "metadata": {
            "tags": null
          },
          "name": "stdout",
          "output_type": "stream",
          "text": [
            "Initializing document manager...\n",
            "setup_model took 18.25 seconds to execute\n",
            "DocumentManager initialized with base path: /content/drive/My Drive/lifesciences\n",
            "Processing training documents...\n",
            "content:{'text': 'Table of Contents\\n1 General Requirements\\n2 Automation\\n3 Process Control\\n4 Process Safety\\n5 Machine Safety\\n6 Vessels', 'lists': [['1.1 Utilites', '1.2 Facility Requirements', '1.3 Safety Requirements', '1.4 Environmental Requirements', '1.5 Calibration Requirements', '1.6 Documentation', '1.7 Training Requirements', '1.8 Vendor and Warranty Specifications'], ['2.1 Platform and Networking Requirements', '2.2 Hardware Requirements', '2.3 Software Requirements', '2.4 System Performance Requirements', '2.5 Historical Data Trending', '2.6 Alarm and Events', '2.7 Operational Requirements', '2.8 User Roles and Access Requirements', '2.9 Password Rules', '2.10 Time Synchronization', '2.11 Security Requirements', '2.12 Anti Virus and Patching', '2.13 Electronic Signatures (21 CFR 11)', '2.14 Electronic Records (21 CFR 11) - Audit Trail', '2.15 Electronic Records (21 CFR 11) - Data Retention', '2.16 Electronic Records (21 CFR 11) - Backup and Disaster Recovery', '2.17 Interface with Third Party Systems', '2.18 Version Control', '2.19 Environmental Requirements', '2.20 Documentation Requirements', '2.21 Training Requirements', '2.22 Test System Requirements'], ['3.1 Temperature Control', '3.2 Pressure Control', '3.3 pH Control'], ['4.1 Reactor Design and Safety Features', '4.2 Chemical Hazard Management', '4.3 Process Monitoring and Control', '4.4 Safety in Chemical Reactions', '4.5 Compliance and Standards'], ['5.1 Emergency Stop Systems', '5.2 Safety Doors and Guards', '5.3 Light Gates and Safety Sensors', '5.4 Safety Control Systems', '5.5 Operator Training and Signage', '5.6 Regulatory Compliance'], ['6.1 General Requirements', '6.2 Design and Dimensional Requirements', '6.3 Material of Construction', '6.4 Construction Compliance', '6.5 Temperature and Pressure Controls', '6.6 Agitation and Mixing Requirements', '6.7 Sealing and Closure Mechanisms', '6.8 Safety Features and Protocols', '6.9 Instrumentation and Monitoring', '6.10 Cleaning and Maintenance', '6.11 Operational Requirements', '6.12 Regulatory and Compliance Standards', '6.13 Documentation and Record-Keeping', '6.14 Training Requirements', '6.15 Vendor and Warranty Specifications', '6.16 Surface Finish Requirements', '6.17 Structural Integrity']]}\n",
            "Metadata before chunk creation: {'filename': 'ProtonGlow_URS copy.docx', 'file_path': '/content/drive/My Drive/lifesciences/training_documents/ProtonGlow_URS copy.docx', 'file_type': 'docx', 'processed': '2025-02-16T10:38:25.888690'}\n",
            "get_embeddings took 0.39 seconds to execute\n",
            "get_embeddings took 0.57 seconds to execute\n",
            "get_embeddings took 2.45 seconds to execute\n",
            "get_embeddings took 0.51 seconds to execute\n",
            "get_embeddings took 1.21 seconds to execute\n",
            "get_embeddings took 1.33 seconds to execute\n",
            "get_embeddings took 1.61 seconds to execute\n",
            "get_embeddings took 2.19 seconds to execute\n",
            "get_embeddings took 0.98 seconds to execute\n",
            "get_embeddings took 1.27 seconds to execute\n",
            "get_embeddings took 1.52 seconds to execute\n",
            "get_embeddings took 2.01 seconds to execute\n",
            "get_embeddings took 0.52 seconds to execute\n"
          ]
        },
        {
          "metadata": {
            "tags": null
          },
          "name": "stderr",
          "output_type": "stream",
          "text": [
            "ERROR:root:Error extracting PDF tables: No module named 'camelot'\n"
          ]
        },
        {
          "metadata": {
            "tags": null
          },
          "name": "stdout",
          "output_type": "stream",
          "text": [
            "content:{'text': '1General Requirements', 'lists': []}\n",
            "Metadata before chunk creation: {'filename': 'ProtonGlow_URS copy.pdf', 'file_path': '/content/drive/My Drive/lifesciences/training_documents/ProtonGlow_URS copy.pdf', 'file_type': 'pdf', 'processed': '2025-02-16T10:38:42.804897'}\n",
            "get_embeddings took 0.11 seconds to execute\n",
            "content:{'text': 'pharmaceutical manufacturing, includingGMP and FDA regulations.', 'lists': []}\n",
            "Metadata before chunk creation: {'filename': 'ProtonGlow_URS copy.pdf', 'file_path': '/content/drive/My Drive/lifesciences/training_documents/ProtonGlow_URS copy.pdf', 'file_type': 'pdf', 'processed': '2025-02-16T10:38:42.804897'}\n"
          ]
        },
        {
          "metadata": {
            "tags": null
          },
          "name": "stderr",
          "output_type": "stream",
          "text": [
            "ERROR:root:Error extracting PDF tables: No module named 'camelot'\n",
            "ERROR:root:Error extracting PDF tables: No module named 'camelot'\n"
          ]
        },
        {
          "metadata": {
            "tags": null
          },
          "name": "stdout",
          "output_type": "stream",
          "text": [
            "get_embeddings took 0.15 seconds to execute\n",
            "content:{'text': 'reliability during operational hours.', 'lists': []}\n",
            "Metadata before chunk creation: {'filename': 'ProtonGlow_URS copy.pdf', 'file_path': '/content/drive/My Drive/lifesciences/training_documents/ProtonGlow_URS copy.pdf', 'file_type': 'pdf', 'processed': '2025-02-16T10:38:42.804897'}\n",
            "get_embeddings took 0.14 seconds to execute\n",
            "content:{'text': 'time between batches by 20% compared to existing equipment.', 'lists': []}\n",
            "Metadata before chunk creation: {'filename': 'ProtonGlow_URS copy.pdf', 'file_path': '/content/drive/My Drive/lifesciences/training_documents/ProtonGlow_URS copy.pdf', 'file_type': 'pdf', 'processed': '2025-02-16T10:38:42.804897'}\n"
          ]
        },
        {
          "metadata": {
            "tags": null
          },
          "name": "stderr",
          "output_type": "stream",
          "text": [
            "ERROR:root:Error extracting PDF tables: No module named 'camelot'\n",
            "ERROR:root:Error extracting PDF tables: No module named 'camelot'\n"
          ]
        },
        {
          "metadata": {
            "tags": null
          },
          "name": "stdout",
          "output_type": "stream",
          "text": [
            "get_embeddings took 0.19 seconds to execute\n",
            "content:{'text': 'interlocks, to ensure operatorand product safety.', 'lists': []}\n",
            "Metadata before chunk creation: {'filename': 'ProtonGlow_URS copy.pdf', 'file_path': '/content/drive/My Drive/lifesciences/training_documents/ProtonGlow_URS copy.pdf', 'file_type': 'pdf', 'processed': '2025-02-16T10:38:42.804897'}\n",
            "get_embeddings took 0.18 seconds to execute\n",
            "content:{'text': 'varying skill levels, facilitating ease ofuse in dailyoperations.', 'lists': []}\n",
            "Metadata before chunk creation: {'filename': 'ProtonGlow_URS copy.pdf', 'file_path': '/content/drive/My Drive/lifesciences/training_documents/ProtonGlow_URS copy.pdf', 'file_type': 'pdf', 'processed': '2025-02-16T10:38:42.804897'}\n"
          ]
        },
        {
          "metadata": {
            "tags": null
          },
          "name": "stderr",
          "output_type": "stream",
          "text": [
            "ERROR:root:Error extracting PDF tables: No module named 'camelot'\n",
            "ERROR:root:Error extracting PDF tables: No module named 'camelot'\n"
          ]
        },
        {
          "metadata": {
            "tags": null
          },
          "name": "stdout",
          "output_type": "stream",
          "text": [
            "get_embeddings took 0.18 seconds to execute\n",
            "content:{'text': 'maintenance and repairs, reducing downtime during maintenance activities by at least\\n15%.', 'lists': []}\n",
            "Metadata before chunk creation: {'filename': 'ProtonGlow_URS copy.pdf', 'file_path': '/content/drive/My Drive/lifesciences/training_documents/ProtonGlow_URS copy.pdf', 'file_type': 'pdf', 'processed': '2025-02-16T10:38:42.804897'}\n",
            "get_embeddings took 0.18 seconds to execute\n",
            "content:{'text': 'production capacity withoutsignificant disruption to existing operations.', 'lists': []}\n",
            "Metadata before chunk creation: {'filename': 'ProtonGlow_URS copy.pdf', 'file_path': '/content/drive/My Drive/lifesciences/training_documents/ProtonGlow_URS copy.pdf', 'file_type': 'pdf', 'processed': '2025-02-16T10:38:42.804897'}\n"
          ]
        },
        {
          "metadata": {
            "tags": null
          },
          "name": "stderr",
          "output_type": "stream",
          "text": [
            "ERROR:root:Error extracting PDF tables: No module named 'camelot'\n",
            "ERROR:root:Error extracting PDF tables: No module named 'camelot'\n"
          ]
        },
        {
          "metadata": {
            "tags": null
          },
          "name": "stdout",
          "output_type": "stream",
          "text": [
            "get_embeddings took 0.18 seconds to execute\n",
            "content:{'text': 'protocols, protecting data from unauthorized access and corruption.', 'lists': []}\n",
            "Metadata before chunk creation: {'filename': 'ProtonGlow_URS copy.pdf', 'file_path': '/content/drive/My Drive/lifesciences/training_documents/ProtonGlow_URS copy.pdf', 'file_type': 'pdf', 'processed': '2025-02-16T10:38:42.804897'}\n",
            "get_embeddings took 0.15 seconds to execute\n",
            "content:{'text': '2Automation', 'lists': []}\n",
            "Metadata before chunk creation: {'filename': 'ProtonGlow_URS copy.pdf', 'file_path': '/content/drive/My Drive/lifesciences/training_documents/ProtonGlow_URS copy.pdf', 'file_type': 'pdf', 'processed': '2025-02-16T10:38:42.804897'}\n"
          ]
        },
        {
          "metadata": {
            "tags": null
          },
          "name": "stderr",
          "output_type": "stream",
          "text": [
            "ERROR:root:Error extracting PDF tables: No module named 'camelot'\n",
            "ERROR:root:Error extracting PDF tables: No module named 'camelot'\n"
          ]
        },
        {
          "metadata": {
            "tags": null
          },
          "name": "stdout",
          "output_type": "stream",
          "text": [
            "get_embeddings took 0.12 seconds to execute\n",
            "content:{'text': 'throughstandardized communication protocols.', 'lists': []}\n",
            "Metadata before chunk creation: {'filename': 'ProtonGlow_URS copy.pdf', 'file_path': '/content/drive/My Drive/lifesciences/training_documents/ProtonGlow_URS copy.pdf', 'file_type': 'pdf', 'processed': '2025-02-16T10:38:42.804897'}\n",
            "get_embeddings took 0.15 seconds to execute\n",
            "content:{'text': 'manufacturing processesin real-time.', 'lists': []}\n",
            "Metadata before chunk creation: {'filename': 'ProtonGlow_URS copy.pdf', 'file_path': '/content/drive/My Drive/lifesciences/training_documents/ProtonGlow_URS copy.pdf', 'file_type': 'pdf', 'processed': '2025-02-16T10:38:42.804897'}\n"
          ]
        },
        {
          "metadata": {
            "tags": null
          },
          "name": "stderr",
          "output_type": "stream",
          "text": [
            "ERROR:root:Error extracting PDF tables: No module named 'camelot'\n",
            "ERROR:root:Error extracting PDF tables: No module named 'camelot'\n"
          ]
        },
        {
          "metadata": {
            "tags": null
          },
          "name": "stdout",
          "output_type": "stream",
          "text": [
            "get_embeddings took 0.14 seconds to execute\n",
            "content:{'text': 'document all automated operations and interventions.', 'lists': []}\n",
            "Metadata before chunk creation: {'filename': 'ProtonGlow_URS copy.pdf', 'file_path': '/content/drive/My Drive/lifesciences/training_documents/ProtonGlow_URS copy.pdf', 'file_type': 'pdf', 'processed': '2025-02-16T10:38:42.804897'}\n",
            "get_embeddings took 0.13 seconds to execute\n",
            "content:{'text': 'managementand supervision ofautomated operations.', 'lists': []}\n",
            "Metadata before chunk creation: {'filename': 'ProtonGlow_URS copy.pdf', 'file_path': '/content/drive/My Drive/lifesciences/training_documents/ProtonGlow_URS copy.pdf', 'file_type': 'pdf', 'processed': '2025-02-16T10:38:42.804897'}\n"
          ]
        },
        {
          "metadata": {
            "tags": null
          },
          "name": "stderr",
          "output_type": "stream",
          "text": [
            "ERROR:root:Error extracting PDF tables: No module named 'camelot'\n",
            "ERROR:root:Error extracting PDF tables: No module named 'camelot'\n"
          ]
        },
        {
          "metadata": {
            "tags": null
          },
          "name": "stdout",
          "output_type": "stream",
          "text": [
            "get_embeddings took 0.15 seconds to execute\n",
            "content:{'text': 'continuity and safety in case ofautomation failures.', 'lists': []}\n",
            "Metadata before chunk creation: {'filename': 'ProtonGlow_URS copy.pdf', 'file_path': '/content/drive/My Drive/lifesciences/training_documents/ProtonGlow_URS copy.pdf', 'file_type': 'pdf', 'processed': '2025-02-16T10:38:42.804897'}\n",
            "get_embeddings took 0.16 seconds to execute\n",
            "content:{'text': '', 'lists': [['2.10Time Synchronization', '2.11Security Requirements', '2.12Anti Virusand Patching']]}\n",
            "Metadata before chunk creation: {'filename': 'ProtonGlow_URS copy.pdf', 'file_path': '/content/drive/My Drive/lifesciences/training_documents/ProtonGlow_URS copy.pdf', 'file_type': 'pdf', 'processed': '2025-02-16T10:38:42.804897'}\n"
          ]
        },
        {
          "metadata": {
            "tags": null
          },
          "name": "stderr",
          "output_type": "stream",
          "text": [
            "ERROR:root:Error extracting PDF tables: No module named 'camelot'\n"
          ]
        },
        {
          "metadata": {
            "tags": null
          },
          "name": "stdout",
          "output_type": "stream",
          "text": [
            "get_embeddings took 0.23 seconds to execute\n",
            "content:{'text': '', 'lists': [['2.13Electronic Signatures (21CFR 11)', '2.14Electronic Records(21 CFR 11)- Audit Trail', '2.15Electronic Records(21 CFR 11)- Data Retention', '2.16Electronic Records(21 CFR 11)- Backupand Disaster Recovery', '2.17Interface withThird Party Systems', '2.18Version Control', '2.19Environmental Requirements', '2.20Documentation Requirements', '2.21Training Requirements', '2.22TestSystem Requirements']]}\n",
            "Metadata before chunk creation: {'filename': 'ProtonGlow_URS copy.pdf', 'file_path': '/content/drive/My Drive/lifesciences/training_documents/ProtonGlow_URS copy.pdf', 'file_type': 'pdf', 'processed': '2025-02-16T10:38:42.804897'}\n"
          ]
        },
        {
          "metadata": {
            "tags": null
          },
          "name": "stderr",
          "output_type": "stream",
          "text": [
            "ERROR:root:Error extracting PDF tables: No module named 'camelot'\n",
            "ERROR:root:Error extracting PDF tables: No module named 'camelot'\n"
          ]
        },
        {
          "metadata": {
            "tags": null
          },
          "name": "stdout",
          "output_type": "stream",
          "text": [
            "get_embeddings took 0.66 seconds to execute\n",
            "content:{'text': '3ProcessControl', 'lists': []}\n",
            "Metadata before chunk creation: {'filename': 'ProtonGlow_URS copy.pdf', 'file_path': '/content/drive/My Drive/lifesciences/training_documents/ProtonGlow_URS copy.pdf', 'file_type': 'pdf', 'processed': '2025-02-16T10:38:42.804897'}\n",
            "get_embeddings took 0.14 seconds to execute\n",
            "content:{'text': 'without manualintervention.', 'lists': []}\n",
            "Metadata before chunk creation: {'filename': 'ProtonGlow_URS copy.pdf', 'file_path': '/content/drive/My Drive/lifesciences/training_documents/ProtonGlow_URS copy.pdf', 'file_type': 'pdf', 'processed': '2025-02-16T10:38:42.804897'}\n"
          ]
        },
        {
          "metadata": {
            "tags": null
          },
          "name": "stderr",
          "output_type": "stream",
          "text": [
            "ERROR:root:Error extracting PDF tables: No module named 'camelot'\n",
            "ERROR:root:Error extracting PDF tables: No module named 'camelot'\n"
          ]
        },
        {
          "metadata": {
            "tags": null
          },
          "name": "stdout",
          "output_type": "stream",
          "text": [
            "get_embeddings took 0.14 seconds to execute\n",
            "content:{'text': 'ensure continuous oversight andtimely decision-making.', 'lists': []}\n",
            "Metadata before chunk creation: {'filename': 'ProtonGlow_URS copy.pdf', 'file_path': '/content/drive/My Drive/lifesciences/training_documents/ProtonGlow_URS copy.pdf', 'file_type': 'pdf', 'processed': '2025-02-16T10:38:42.804897'}\n",
            "get_embeddings took 0.15 seconds to execute\n",
            "content:{'text': 'ensure productquality.', 'lists': []}\n",
            "Metadata before chunk creation: {'filename': 'ProtonGlow_URS copy.pdf', 'file_path': '/content/drive/My Drive/lifesciences/training_documents/ProtonGlow_URS copy.pdf', 'file_type': 'pdf', 'processed': '2025-02-16T10:38:42.804897'}\n"
          ]
        },
        {
          "metadata": {
            "tags": null
          },
          "name": "stderr",
          "output_type": "stream",
          "text": [
            "ERROR:root:Error extracting PDF tables: No module named 'camelot'\n",
            "ERROR:root:Error extracting PDF tables: No module named 'camelot'\n"
          ]
        },
        {
          "metadata": {
            "tags": null
          },
          "name": "stdout",
          "output_type": "stream",
          "text": [
            "get_embeddings took 0.11 seconds to execute\n",
            "content:{'text': 'outcomes andaccommodate production changes.', 'lists': []}\n",
            "Metadata before chunk creation: {'filename': 'ProtonGlow_URS copy.pdf', 'file_path': '/content/drive/My Drive/lifesciences/training_documents/ProtonGlow_URS copy.pdf', 'file_type': 'pdf', 'processed': '2025-02-16T10:38:42.804897'}\n",
            "get_embeddings took 0.11 seconds to execute\n",
            "content:{'text': 'from specified process parametersfor promptcorrective action.', 'lists': []}\n",
            "Metadata before chunk creation: {'filename': 'ProtonGlow_URS copy.pdf', 'file_path': '/content/drive/My Drive/lifesciences/training_documents/ProtonGlow_URS copy.pdf', 'file_type': 'pdf', 'processed': '2025-02-16T10:38:42.804897'}\n"
          ]
        },
        {
          "metadata": {
            "tags": null
          },
          "name": "stderr",
          "output_type": "stream",
          "text": [
            "ERROR:root:Error extracting PDF tables: No module named 'camelot'\n",
            "ERROR:root:Error extracting PDF tables: No module named 'camelot'\n"
          ]
        },
        {
          "metadata": {
            "tags": null
          },
          "name": "stdout",
          "output_type": "stream",
          "text": [
            "get_embeddings took 0.11 seconds to execute\n",
            "content:{'text': 'facilitateprocess analysis.', 'lists': []}\n",
            "Metadata before chunk creation: {'filename': 'ProtonGlow_URS copy.pdf', 'file_path': '/content/drive/My Drive/lifesciences/training_documents/ProtonGlow_URS copy.pdf', 'file_type': 'pdf', 'processed': '2025-02-16T10:38:42.804897'}\n",
            "get_embeddings took 0.09 seconds to execute\n",
            "content:{'text': 'recommendimprovements to currentoperations.', 'lists': []}\n",
            "Metadata before chunk creation: {'filename': 'ProtonGlow_URS copy.pdf', 'file_path': '/content/drive/My Drive/lifesciences/training_documents/ProtonGlow_URS copy.pdf', 'file_type': 'pdf', 'processed': '2025-02-16T10:38:42.804897'}\n"
          ]
        },
        {
          "metadata": {
            "tags": null
          },
          "name": "stderr",
          "output_type": "stream",
          "text": [
            "ERROR:root:Error extracting PDF tables: No module named 'camelot'\n",
            "ERROR:root:Error extracting PDF tables: No module named 'camelot'\n"
          ]
        },
        {
          "metadata": {
            "tags": null
          },
          "name": "stdout",
          "output_type": "stream",
          "text": [
            "get_embeddings took 0.11 seconds to execute\n",
            "content:{'text': '4ProcessSafety', 'lists': []}\n",
            "Metadata before chunk creation: {'filename': 'ProtonGlow_URS copy.pdf', 'file_path': '/content/drive/My Drive/lifesciences/training_documents/ProtonGlow_URS copy.pdf', 'file_type': 'pdf', 'processed': '2025-02-16T10:38:42.804897'}\n",
            "get_embeddings took 0.12 seconds to execute\n",
            "content:{'text': 'ensuring they remain within predefined limitsthroughout the production cycle.', 'lists': []}\n",
            "Metadata before chunk creation: {'filename': 'ProtonGlow_URS copy.pdf', 'file_path': '/content/drive/My Drive/lifesciences/training_documents/ProtonGlow_URS copy.pdf', 'file_type': 'pdf', 'processed': '2025-02-16T10:38:42.804897'}\n"
          ]
        },
        {
          "metadata": {
            "tags": null
          },
          "name": "stderr",
          "output_type": "stream",
          "text": [
            "ERROR:root:Error extracting PDF tables: No module named 'camelot'\n",
            "ERROR:root:Error extracting PDF tables: No module named 'camelot'\n"
          ]
        },
        {
          "metadata": {
            "tags": null
          },
          "name": "stdout",
          "output_type": "stream",
          "text": [
            "get_embeddings took 0.13 seconds to execute\n",
            "content:{'text': 'and date ofchange, to ensure traceabilityand accountability.', 'lists': []}\n",
            "Metadata before chunk creation: {'filename': 'ProtonGlow_URS copy.pdf', 'file_path': '/content/drive/My Drive/lifesciences/training_documents/ProtonGlow_URS copy.pdf', 'file_type': 'pdf', 'processed': '2025-02-16T10:38:42.804897'}\n",
            "get_embeddings took 0.12 seconds to execute\n",
            "content:{'text': 'time data inputs to maintain optimalprocessing conditions.', 'lists': []}\n",
            "Metadata before chunk creation: {'filename': 'ProtonGlow_URS copy.pdf', 'file_path': '/content/drive/My Drive/lifesciences/training_documents/ProtonGlow_URS copy.pdf', 'file_type': 'pdf', 'processed': '2025-02-16T10:38:42.804897'}\n"
          ]
        },
        {
          "metadata": {
            "tags": null
          },
          "name": "stderr",
          "output_type": "stream",
          "text": [
            "ERROR:root:Error extracting PDF tables: No module named 'camelot'\n",
            "ERROR:root:Error extracting PDF tables: No module named 'camelot'\n"
          ]
        },
        {
          "metadata": {
            "tags": null
          },
          "name": "stdout",
          "output_type": "stream",
          "text": [
            "get_embeddings took 0.11 seconds to execute\n",
            "content:{'text': 'set process parameters,with visualand audiblesignals.', 'lists': []}\n",
            "Metadata before chunk creation: {'filename': 'ProtonGlow_URS copy.pdf', 'file_path': '/content/drive/My Drive/lifesciences/training_documents/ProtonGlow_URS copy.pdf', 'file_type': 'pdf', 'processed': '2025-02-16T10:38:42.804897'}\n",
            "get_embeddings took 0.13 seconds to execute\n",
            "content:{'text': 'automated adjustments fail to correctdeviations, with all actions recorded inthe audit\\ntrail.', 'lists': []}\n",
            "Metadata before chunk creation: {'filename': 'ProtonGlow_URS copy.pdf', 'file_path': '/content/drive/My Drive/lifesciences/training_documents/ProtonGlow_URS copy.pdf', 'file_type': 'pdf', 'processed': '2025-02-16T10:38:42.804897'}\n"
          ]
        },
        {
          "metadata": {
            "tags": null
          },
          "name": "stderr",
          "output_type": "stream",
          "text": [
            "ERROR:root:Error extracting PDF tables: No module named 'camelot'\n",
            "ERROR:root:Error extracting PDF tables: No module named 'camelot'\n"
          ]
        },
        {
          "metadata": {
            "tags": null
          },
          "name": "stdout",
          "output_type": "stream",
          "text": [
            "get_embeddings took 0.14 seconds to execute\n",
            "content:{'text': '5Machine Safety', 'lists': []}\n",
            "Metadata before chunk creation: {'filename': 'ProtonGlow_URS copy.pdf', 'file_path': '/content/drive/My Drive/lifesciences/training_documents/ProtonGlow_URS copy.pdf', 'file_type': 'pdf', 'processed': '2025-02-16T10:38:42.804897'}\n",
            "get_embeddings took 0.08 seconds to execute\n",
            "content:{'text': 'activatedboth automatically andmanually to safely terminate operations inthe eventof a\\ncriticalfailure.', 'lists': []}\n",
            "Metadata before chunk creation: {'filename': 'ProtonGlow_URS copy.pdf', 'file_path': '/content/drive/My Drive/lifesciences/training_documents/ProtonGlow_URS copy.pdf', 'file_type': 'pdf', 'processed': '2025-02-16T10:38:42.804897'}\n"
          ]
        },
        {
          "metadata": {
            "tags": null
          },
          "name": "stderr",
          "output_type": "stream",
          "text": [
            "ERROR:root:Error extracting PDF tables: No module named 'camelot'\n",
            "ERROR:root:Error extracting PDF tables: No module named 'camelot'\n"
          ]
        },
        {
          "metadata": {
            "tags": null
          },
          "name": "stdout",
          "output_type": "stream",
          "text": [
            "get_embeddings took 0.14 seconds to execute\n",
            "content:{'text': 'sequencesand ensure that equipment cannotbe started oroperated in a hazardous\\nmanner.', 'lists': []}\n",
            "Metadata before chunk creation: {'filename': 'ProtonGlow_URS copy.pdf', 'file_path': '/content/drive/My Drive/lifesciences/training_documents/ProtonGlow_URS copy.pdf', 'file_type': 'pdf', 'processed': '2025-02-16T10:38:42.804897'}\n",
            "get_embeddings took 0.14 seconds to execute\n",
            "content:{'text': 'orexposure during normaloperationand emergency scenarios.', 'lists': []}\n",
            "Metadata before chunk creation: {'filename': 'ProtonGlow_URS copy.pdf', 'file_path': '/content/drive/My Drive/lifesciences/training_documents/ProtonGlow_URS copy.pdf', 'file_type': 'pdf', 'processed': '2025-02-16T10:38:42.804897'}\n"
          ]
        },
        {
          "metadata": {
            "tags": null
          },
          "name": "stderr",
          "output_type": "stream",
          "text": [
            "ERROR:root:Error extracting PDF tables: No module named 'camelot'\n",
            "ERROR:root:Error extracting PDF tables: No module named 'camelot'\n"
          ]
        },
        {
          "metadata": {
            "tags": null
          },
          "name": "stdout",
          "output_type": "stream",
          "text": [
            "get_embeddings took 0.12 seconds to execute\n",
            "content:{'text': 'from exceedingsafe operational limits, thereby avoiding equipment damage or failure.', 'lists': []}\n",
            "Metadata before chunk creation: {'filename': 'ProtonGlow_URS copy.pdf', 'file_path': '/content/drive/My Drive/lifesciences/training_documents/ProtonGlow_URS copy.pdf', 'file_type': 'pdf', 'processed': '2025-02-16T10:38:42.804897'}\n",
            "get_embeddings took 0.12 seconds to execute\n",
            "content:{'text': 'machineoperations immediately when activated.', 'lists': []}\n",
            "Metadata before chunk creation: {'filename': 'ProtonGlow_URS copy.pdf', 'file_path': '/content/drive/My Drive/lifesciences/training_documents/ProtonGlow_URS copy.pdf', 'file_type': 'pdf', 'processed': '2025-02-16T10:38:42.804897'}\n"
          ]
        },
        {
          "metadata": {
            "tags": null
          },
          "name": "stderr",
          "output_type": "stream",
          "text": [
            "ERROR:root:Error extracting PDF tables: No module named 'camelot'\n",
            "ERROR:root:Error extracting PDF tables: No module named 'camelot'\n"
          ]
        },
        {
          "metadata": {
            "tags": null
          },
          "name": "stdout",
          "output_type": "stream",
          "text": [
            "get_embeddings took 0.10 seconds to execute\n",
            "content:{'text': 'areas during operation, ensuring usersafety.', 'lists': []}\n",
            "Metadata before chunk creation: {'filename': 'ProtonGlow_URS copy.pdf', 'file_path': '/content/drive/My Drive/lifesciences/training_documents/ProtonGlow_URS copy.pdf', 'file_type': 'pdf', 'processed': '2025-02-16T10:38:42.804897'}\n",
            "get_embeddings took 0.10 seconds to execute\n",
            "content:{'text': 'properlyshut off andcannot be restarted until maintenance or repairsare complete.', 'lists': []}\n",
            "Metadata before chunk creation: {'filename': 'ProtonGlow_URS copy.pdf', 'file_path': '/content/drive/My Drive/lifesciences/training_documents/ProtonGlow_URS copy.pdf', 'file_type': 'pdf', 'processed': '2025-02-16T10:38:42.804897'}\n"
          ]
        },
        {
          "metadata": {
            "tags": null
          },
          "name": "stderr",
          "output_type": "stream",
          "text": [
            "ERROR:root:Error extracting PDF tables: No module named 'camelot'\n",
            "ERROR:root:Error extracting PDF tables: No module named 'camelot'\n"
          ]
        },
        {
          "metadata": {
            "tags": null
          },
          "name": "stdout",
          "output_type": "stream",
          "text": [
            "get_embeddings took 0.13 seconds to execute\n",
            "content:{'text': 'conditions orpotential hazards, providingtimely warningsto preventaccidents.', 'lists': []}\n",
            "Metadata before chunk creation: {'filename': 'ProtonGlow_URS copy.pdf', 'file_path': '/content/drive/My Drive/lifesciences/training_documents/ProtonGlow_URS copy.pdf', 'file_type': 'pdf', 'processed': '2025-02-16T10:38:42.804897'}\n",
            "get_embeddings took 0.12 seconds to execute\n",
            "content:{'text': 'notifyoperators ofunsafe conditions promptly.', 'lists': []}\n",
            "Metadata before chunk creation: {'filename': 'ProtonGlow_URS copy.pdf', 'file_path': '/content/drive/My Drive/lifesciences/training_documents/ProtonGlow_URS copy.pdf', 'file_type': 'pdf', 'processed': '2025-02-16T10:38:42.804897'}\n"
          ]
        },
        {
          "metadata": {
            "tags": null
          },
          "name": "stderr",
          "output_type": "stream",
          "text": [
            "ERROR:root:Error extracting PDF tables: No module named 'camelot'\n",
            "ERROR:root:Error extracting PDF tables: No module named 'camelot'\n"
          ]
        },
        {
          "metadata": {
            "tags": null
          },
          "name": "stdout",
          "output_type": "stream",
          "text": [
            "get_embeddings took 0.11 seconds to execute\n",
            "content:{'text': 'arenot inplace or accesspanels are open,ensuring zerorisk ofaccidental injury.', 'lists': []}\n",
            "Metadata before chunk creation: {'filename': 'ProtonGlow_URS copy.pdf', 'file_path': '/content/drive/My Drive/lifesciences/training_documents/ProtonGlow_URS copy.pdf', 'file_type': 'pdf', 'processed': '2025-02-16T10:38:42.804897'}\n",
            "get_embeddings took 0.17 seconds to execute\n",
            "content:{'text': 'automatic safety mechanisms to preventleakage orexposure during standard operations\\nandemergencies.', 'lists': []}\n",
            "Metadata before chunk creation: {'filename': 'ProtonGlow_URS copy.pdf', 'file_path': '/content/drive/My Drive/lifesciences/training_documents/ProtonGlow_URS copy.pdf', 'file_type': 'pdf', 'processed': '2025-02-16T10:38:42.804897'}\n"
          ]
        },
        {
          "metadata": {
            "tags": null
          },
          "name": "stderr",
          "output_type": "stream",
          "text": [
            "ERROR:root:Error extracting PDF tables: No module named 'camelot'\n",
            "ERROR:root:Error extracting PDF tables: No module named 'camelot'\n"
          ]
        },
        {
          "metadata": {
            "tags": null
          },
          "name": "stdout",
          "output_type": "stream",
          "text": [
            "get_embeddings took 0.14 seconds to execute\n",
            "content:{'text': 'mechanismsthat maintain pressure withinsafe limits to preventequipment damage.', 'lists': []}\n",
            "Metadata before chunk creation: {'filename': 'ProtonGlow_URS copy.pdf', 'file_path': '/content/drive/My Drive/lifesciences/training_documents/ProtonGlow_URS copy.pdf', 'file_type': 'pdf', 'processed': '2025-02-16T10:38:42.804897'}\n",
            "get_embeddings took 0.13 seconds to execute\n",
            "content:{'text': 'immediately ceasing all operations when triggered to ensureuser safety.', 'lists': []}\n",
            "Metadata before chunk creation: {'filename': 'ProtonGlow_URS copy.pdf', 'file_path': '/content/drive/My Drive/lifesciences/training_documents/ProtonGlow_URS copy.pdf', 'file_type': 'pdf', 'processed': '2025-02-16T10:38:42.804897'}\n"
          ]
        },
        {
          "metadata": {
            "tags": null
          },
          "name": "stderr",
          "output_type": "stream",
          "text": [
            "ERROR:root:Error extracting PDF tables: No module named 'camelot'\n",
            "ERROR:root:Error extracting PDF tables: No module named 'camelot'\n"
          ]
        },
        {
          "metadata": {
            "tags": null
          },
          "name": "stdout",
          "output_type": "stream",
          "text": [
            "get_embeddings took 0.11 seconds to execute\n",
            "content:{'text': 'with automatic machine shutdown if guards areremoved orcompromised.', 'lists': []}\n",
            "Metadata before chunk creation: {'filename': 'ProtonGlow_URS copy.pdf', 'file_path': '/content/drive/My Drive/lifesciences/training_documents/ProtonGlow_URS copy.pdf', 'file_type': 'pdf', 'processed': '2025-02-16T10:38:42.804897'}\n",
            "get_embeddings took 0.15 seconds to execute\n",
            "content:{'text': 'remainsinoperable during maintenance, successfully preventing accidental restart.', 'lists': []}\n",
            "Metadata before chunk creation: {'filename': 'ProtonGlow_URS copy.pdf', 'file_path': '/content/drive/My Drive/lifesciences/training_documents/ProtonGlow_URS copy.pdf', 'file_type': 'pdf', 'processed': '2025-02-16T10:38:42.804897'}\n"
          ]
        },
        {
          "metadata": {
            "tags": null
          },
          "name": "stderr",
          "output_type": "stream",
          "text": [
            "ERROR:root:Error extracting PDF tables: No module named 'camelot'\n",
            "ERROR:root:Error extracting PDF tables: No module named 'camelot'\n"
          ]
        },
        {
          "metadata": {
            "tags": null
          },
          "name": "stdout",
          "output_type": "stream",
          "text": [
            "get_embeddings took 0.12 seconds to execute\n",
            "content:{'text': 'hazardousareas during operation,ensuring user safety through physical separation.', 'lists': []}\n",
            "Metadata before chunk creation: {'filename': 'ProtonGlow_URS copy.pdf', 'file_path': '/content/drive/My Drive/lifesciences/training_documents/ProtonGlow_URS copy.pdf', 'file_type': 'pdf', 'processed': '2025-02-16T10:38:42.804897'}\n",
            "get_embeddings took 0.11 seconds to execute\n",
            "content:{'text': 'operateor maintain theequipment, reducing the risk ofunauthorized use.', 'lists': []}\n",
            "Metadata before chunk creation: {'filename': 'ProtonGlow_URS copy.pdf', 'file_path': '/content/drive/My Drive/lifesciences/training_documents/ProtonGlow_URS copy.pdf', 'file_type': 'pdf', 'processed': '2025-02-16T10:38:42.804897'}\n"
          ]
        },
        {
          "metadata": {
            "tags": null
          },
          "name": "stderr",
          "output_type": "stream",
          "text": [
            "ERROR:root:Error extracting PDF tables: No module named 'camelot'\n",
            "ERROR:root:Error extracting PDF tables: No module named 'camelot'\n"
          ]
        },
        {
          "metadata": {
            "tags": null
          },
          "name": "stdout",
          "output_type": "stream",
          "text": [
            "get_embeddings took 0.15 seconds to execute\n",
            "content:{'text': 'providewarnings andinstructions forsafe operation.', 'lists': []}\n",
            "Metadata before chunk creation: {'filename': 'ProtonGlow_URS copy.pdf', 'file_path': '/content/drive/My Drive/lifesciences/training_documents/ProtonGlow_URS copy.pdf', 'file_type': 'pdf', 'processed': '2025-02-16T10:38:42.804897'}\n",
            "get_embeddings took 0.11 seconds to execute\n",
            "content:{'text': 'equipment,enablingimmediate shutdown in case ofemergency.', 'lists': []}\n",
            "Metadata before chunk creation: {'filename': 'ProtonGlow_URS copy.pdf', 'file_path': '/content/drive/My Drive/lifesciences/training_documents/ProtonGlow_URS copy.pdf', 'file_type': 'pdf', 'processed': '2025-02-16T10:38:42.804897'}\n"
          ]
        },
        {
          "metadata": {
            "tags": null
          },
          "name": "stderr",
          "output_type": "stream",
          "text": [
            "ERROR:root:Error extracting PDF tables: No module named 'camelot'\n",
            "ERROR:root:Error extracting PDF tables: No module named 'camelot'\n",
            "ERROR:root:Error extracting PDF tables: No module named 'camelot'\n"
          ]
        },
        {
          "metadata": {
            "tags": null
          },
          "name": "stdout",
          "output_type": "stream",
          "text": [
            "get_embeddings took 0.13 seconds to execute\n",
            "content:{'text': '6Vessels', 'lists': []}\n",
            "Metadata before chunk creation: {'filename': 'ProtonGlow_URS copy.pdf', 'file_path': '/content/drive/My Drive/lifesciences/training_documents/ProtonGlow_URS copy.pdf', 'file_type': 'pdf', 'processed': '2025-02-16T10:38:42.804897'}\n",
            "get_embeddings took 0.09 seconds to execute\n",
            "content:{'text': 'productsand cleaning agentsused during production.', 'lists': []}\n",
            "Metadata before chunk creation: {'filename': 'ProtonGlow_URS copy.pdf', 'file_path': '/content/drive/My Drive/lifesciences/training_documents/ProtonGlow_URS copy.pdf', 'file_type': 'pdf', 'processed': '2025-02-16T10:38:42.804897'}\n",
            "get_embeddings took 0.10 seconds to execute\n"
          ]
        },
        {
          "metadata": {
            "tags": null
          },
          "name": "stderr",
          "output_type": "stream",
          "text": [
            "ERROR:root:Error extracting PDF tables: No module named 'camelot'\n",
            "ERROR:root:Error extracting PDF tables: No module named 'camelot'\n"
          ]
        },
        {
          "metadata": {
            "tags": null
          },
          "name": "stdout",
          "output_type": "stream",
          "text": [
            "content:{'text': 'than 0.5 micrometers to ensurea smoothsurface that promotes cleanability andreduces\\ncontamination risk.', 'lists': []}\n",
            "Metadata before chunk creation: {'filename': 'ProtonGlow_URS copy.pdf', 'file_path': '/content/drive/My Drive/lifesciences/training_documents/ProtonGlow_URS copy.pdf', 'file_type': 'pdf', 'processed': '2025-02-16T10:38:42.804897'}\n",
            "get_embeddings took 0.18 seconds to execute\n",
            "content:{'text': 'removed without residue or pooling.', 'lists': []}\n",
            "Metadata before chunk creation: {'filename': 'ProtonGlow_URS copy.pdf', 'file_path': '/content/drive/My Drive/lifesciences/training_documents/ProtonGlow_URS copy.pdf', 'file_type': 'pdf', 'processed': '2025-02-16T10:38:42.804897'}\n",
            "get_embeddings took 0.10 seconds to execute\n",
            "content:{'text': 'cleaningprocesses without the risk ofmicrobial growthor contamination.', 'lists': []}\n",
            "Metadata before chunk creation: {'filename': 'ProtonGlow_URS copy.pdf', 'file_path': '/content/drive/My Drive/lifesciences/training_documents/ProtonGlow_URS copy.pdf', 'file_type': 'pdf', 'processed': '2025-02-16T10:38:42.804897'}\n"
          ]
        },
        {
          "metadata": {
            "tags": null
          },
          "name": "stderr",
          "output_type": "stream",
          "text": [
            "ERROR:root:Error extracting PDF tables: No module named 'camelot'\n"
          ]
        },
        {
          "metadata": {
            "tags": null
          },
          "name": "stdout",
          "output_type": "stream",
          "text": [
            "get_embeddings took 0.12 seconds to execute\n",
            "content:{'text': '', 'lists': [['6.10Cleaning and Maintenance', '6.11Operational Requirements', '6.12Regulatoryand Compliance Standards', '6.13Documentation and Record-Keeping']]}\n",
            "Metadata before chunk creation: {'filename': 'ProtonGlow_URS copy.pdf', 'file_path': '/content/drive/My Drive/lifesciences/training_documents/ProtonGlow_URS copy.pdf', 'file_type': 'pdf', 'processed': '2025-02-16T10:38:42.804897'}\n"
          ]
        },
        {
          "metadata": {
            "tags": null
          },
          "name": "stderr",
          "output_type": "stream",
          "text": [
            "ERROR:root:Error extracting PDF tables: No module named 'camelot'\n",
            "ERROR:root:Error extracting PDF tables: No module named 'camelot'\n"
          ]
        },
        {
          "metadata": {
            "tags": null
          },
          "name": "stdout",
          "output_type": "stream",
          "text": [
            "get_embeddings took 0.20 seconds to execute\n",
            "content:{'text': '', 'lists': [['6.14Training Requirements', '6.15Vendor andWarrantySpecifications', '6.16Surface Finish Requirements', '6.17StructuralIntegrity']]}\n",
            "Metadata before chunk creation: {'filename': 'ProtonGlow_URS copy.pdf', 'file_path': '/content/drive/My Drive/lifesciences/training_documents/ProtonGlow_URS copy.pdf', 'file_type': 'pdf', 'processed': '2025-02-16T10:38:42.804897'}\n",
            "get_embeddings took 0.19 seconds to execute\n"
          ]
        },
        {
          "metadata": {
            "tags": null
          },
          "name": "stderr",
          "output_type": "stream",
          "text": [
            "INFO:     Started server process [52697]\n",
            "INFO:     Waiting for application startup.\n"
          ]
        },
        {
          "metadata": {
            "tags": null
          },
          "name": "stdout",
          "output_type": "stream",
          "text": [
            "content:{'text': 'Bejoy is a very good Boy', 'lists': []}\n",
            "Metadata before chunk creation: {'filename': 'Bejoy is a very good Boy.docx', 'file_path': '/content/drive/My Drive/lifesciences/training_documents/Bejoy is a very good Boy.docx', 'file_type': 'docx', 'processed': '2025-02-16T10:38:52.110046'}\n",
            "get_embeddings took 0.10 seconds to execute\n",
            "Successfully processed 3 files\n",
            "Starting server on http://0.0.0.0:8000\n"
          ]
        },
        {
          "metadata": {
            "tags": null
          },
          "name": "stderr",
          "output_type": "stream",
          "text": [
            "INFO:     Application startup complete.\n",
            "INFO:     Uvicorn running on http://0.0.0.0:8000 (Press CTRL+C to quit)\n"
          ]
        },
        {
          "output_type": "stream",
          "name": "stdout",
          "text": [
            "API available at: https://44a2-34-82-28-115.ngrok-free.app\n",
            "get_embeddings took 0.11 seconds to execute\n",
            "query took 0.11 seconds to execute\n",
            "INFO:     95.223.75.30:0 - \"POST /query HTTP/1.1\" 200 OK\n",
            "Initializing document manager...\n",
            "setup_model took 0.36 seconds to execute\n",
            "DocumentManager initialized with base path: /content/drive/My Drive/lifesciences\n",
            "content:{'text': 'Table of Contents\\n1 General Requirements\\n2 Automation\\n3 Process Control\\n4 Process Safety\\n5 Machine Safety\\n6 Vessels', 'lists': [['1.1 Utilites', '1.2 Facility Requirements', '1.3 Safety Requirements', '1.4 Environmental Requirements', '1.5 Calibration Requirements', '1.6 Documentation', '1.7 Training Requirements', '1.8 Vendor and Warranty Specifications'], ['2.1 Platform and Networking Requirements', '2.2 Hardware Requirements', '2.3 Software Requirements', '2.4 System Performance Requirements', '2.5 Historical Data Trending', '2.6 Alarm and Events', '2.7 Operational Requirements', '2.8 User Roles and Access Requirements', '2.9 Password Rules', '2.10 Time Synchronization', '2.11 Security Requirements', '2.12 Anti Virus and Patching', '2.13 Electronic Signatures (21 CFR 11)', '2.14 Electronic Records (21 CFR 11) - Audit Trail', '2.15 Electronic Records (21 CFR 11) - Data Retention', '2.16 Electronic Records (21 CFR 11) - Backup and Disaster Recovery', '2.17 Interface with Third Party Systems', '2.18 Version Control', '2.19 Environmental Requirements', '2.20 Documentation Requirements', '2.21 Training Requirements', '2.22 Test System Requirements'], ['3.1 Temperature Control', '3.2 Pressure Control', '3.3 pH Control'], ['4.1 Reactor Design and Safety Features', '4.2 Chemical Hazard Management', '4.3 Process Monitoring and Control', '4.4 Safety in Chemical Reactions', '4.5 Compliance and Standards'], ['5.1 Emergency Stop Systems', '5.2 Safety Doors and Guards', '5.3 Light Gates and Safety Sensors', '5.4 Safety Control Systems', '5.5 Operator Training and Signage', '5.6 Regulatory Compliance'], ['6.1 General Requirements', '6.2 Design and Dimensional Requirements', '6.3 Material of Construction', '6.4 Construction Compliance', '6.5 Temperature and Pressure Controls', '6.6 Agitation and Mixing Requirements', '6.7 Sealing and Closure Mechanisms', '6.8 Safety Features and Protocols', '6.9 Instrumentation and Monitoring', '6.10 Cleaning and Maintenance', '6.11 Operational Requirements', '6.12 Regulatory and Compliance Standards', '6.13 Documentation and Record-Keeping', '6.14 Training Requirements', '6.15 Vendor and Warranty Specifications', '6.16 Surface Finish Requirements', '6.17 Structural Integrity']]}\n",
            "Metadata before chunk creation: {'filename': 'ProtonGlow_URS copy.docx', 'file_path': '/content/drive/My Drive/lifesciences/training_documents/ProtonGlow_URS copy.docx', 'file_type': 'docx', 'processed': '2025-02-16T11:12:22.083762'}\n",
            "get_embeddings took 0.19 seconds to execute\n",
            "get_embeddings took 0.22 seconds to execute\n",
            "get_embeddings took 0.70 seconds to execute\n",
            "get_embeddings took 0.12 seconds to execute\n",
            "get_embeddings took 0.18 seconds to execute\n",
            "get_embeddings took 0.19 seconds to execute\n",
            "get_embeddings took 0.49 seconds to execute\n",
            "get_embeddings took 0.93 seconds to execute\n",
            "get_embeddings took 0.53 seconds to execute\n",
            "get_embeddings took 0.71 seconds to execute\n",
            "get_embeddings took 0.64 seconds to execute\n",
            "get_embeddings took 1.88 seconds to execute\n",
            "get_embeddings took 0.48 seconds to execute\n"
          ]
        },
        {
          "output_type": "stream",
          "name": "stderr",
          "text": [
            "ERROR:root:Error extracting PDF tables: No module named 'camelot'\n",
            "ERROR:root:Error extracting PDF tables: No module named 'camelot'\n"
          ]
        },
        {
          "output_type": "stream",
          "name": "stdout",
          "text": [
            "content:{'text': '1General Requirements', 'lists': []}\n",
            "Metadata before chunk creation: {'filename': 'ProtonGlow_URS copy.pdf', 'file_path': '/content/drive/My Drive/lifesciences/training_documents/ProtonGlow_URS copy.pdf', 'file_type': 'pdf', 'processed': '2025-02-16T11:12:29.462682'}\n",
            "get_embeddings took 0.09 seconds to execute\n",
            "content:{'text': 'pharmaceutical manufacturing, includingGMP and FDA regulations.', 'lists': []}\n",
            "Metadata before chunk creation: {'filename': 'ProtonGlow_URS copy.pdf', 'file_path': '/content/drive/My Drive/lifesciences/training_documents/ProtonGlow_URS copy.pdf', 'file_type': 'pdf', 'processed': '2025-02-16T11:12:29.462682'}\n",
            "get_embeddings took 0.10 seconds to execute\n",
            "content:{'text': 'reliability during operational hours.', 'lists': []}\n",
            "Metadata before chunk creation: {'filename': 'ProtonGlow_URS copy.pdf', 'file_path': '/content/drive/My Drive/lifesciences/training_documents/ProtonGlow_URS copy.pdf', 'file_type': 'pdf', 'processed': '2025-02-16T11:12:29.462682'}\n"
          ]
        },
        {
          "output_type": "stream",
          "name": "stderr",
          "text": [
            "ERROR:root:Error extracting PDF tables: No module named 'camelot'\n",
            "ERROR:root:Error extracting PDF tables: No module named 'camelot'\n"
          ]
        },
        {
          "output_type": "stream",
          "name": "stdout",
          "text": [
            "get_embeddings took 0.10 seconds to execute\n",
            "content:{'text': 'time between batches by 20% compared to existing equipment.', 'lists': []}\n",
            "Metadata before chunk creation: {'filename': 'ProtonGlow_URS copy.pdf', 'file_path': '/content/drive/My Drive/lifesciences/training_documents/ProtonGlow_URS copy.pdf', 'file_type': 'pdf', 'processed': '2025-02-16T11:12:29.462682'}\n",
            "get_embeddings took 0.14 seconds to execute\n",
            "content:{'text': 'interlocks, to ensure operatorand product safety.', 'lists': []}\n",
            "Metadata before chunk creation: {'filename': 'ProtonGlow_URS copy.pdf', 'file_path': '/content/drive/My Drive/lifesciences/training_documents/ProtonGlow_URS copy.pdf', 'file_type': 'pdf', 'processed': '2025-02-16T11:12:29.462682'}\n"
          ]
        },
        {
          "output_type": "stream",
          "name": "stderr",
          "text": [
            "ERROR:root:Error extracting PDF tables: No module named 'camelot'\n",
            "ERROR:root:Error extracting PDF tables: No module named 'camelot'\n"
          ]
        },
        {
          "output_type": "stream",
          "name": "stdout",
          "text": [
            "get_embeddings took 0.17 seconds to execute\n",
            "content:{'text': 'varying skill levels, facilitating ease ofuse in dailyoperations.', 'lists': []}\n",
            "Metadata before chunk creation: {'filename': 'ProtonGlow_URS copy.pdf', 'file_path': '/content/drive/My Drive/lifesciences/training_documents/ProtonGlow_URS copy.pdf', 'file_type': 'pdf', 'processed': '2025-02-16T11:12:29.462682'}\n",
            "get_embeddings took 0.18 seconds to execute\n",
            "content:{'text': 'maintenance and repairs, reducing downtime during maintenance activities by at least\\n15%.', 'lists': []}\n",
            "Metadata before chunk creation: {'filename': 'ProtonGlow_URS copy.pdf', 'file_path': '/content/drive/My Drive/lifesciences/training_documents/ProtonGlow_URS copy.pdf', 'file_type': 'pdf', 'processed': '2025-02-16T11:12:29.462682'}\n"
          ]
        },
        {
          "output_type": "stream",
          "name": "stderr",
          "text": [
            "ERROR:root:Error extracting PDF tables: No module named 'camelot'\n",
            "ERROR:root:Error extracting PDF tables: No module named 'camelot'\n"
          ]
        },
        {
          "output_type": "stream",
          "name": "stdout",
          "text": [
            "get_embeddings took 0.20 seconds to execute\n",
            "content:{'text': 'production capacity withoutsignificant disruption to existing operations.', 'lists': []}\n",
            "Metadata before chunk creation: {'filename': 'ProtonGlow_URS copy.pdf', 'file_path': '/content/drive/My Drive/lifesciences/training_documents/ProtonGlow_URS copy.pdf', 'file_type': 'pdf', 'processed': '2025-02-16T11:12:29.462682'}\n",
            "get_embeddings took 0.17 seconds to execute\n",
            "content:{'text': 'protocols, protecting data from unauthorized access and corruption.', 'lists': []}\n",
            "Metadata before chunk creation: {'filename': 'ProtonGlow_URS copy.pdf', 'file_path': '/content/drive/My Drive/lifesciences/training_documents/ProtonGlow_URS copy.pdf', 'file_type': 'pdf', 'processed': '2025-02-16T11:12:29.462682'}\n"
          ]
        },
        {
          "output_type": "stream",
          "name": "stderr",
          "text": [
            "ERROR:root:Error extracting PDF tables: No module named 'camelot'\n",
            "ERROR:root:Error extracting PDF tables: No module named 'camelot'\n"
          ]
        },
        {
          "output_type": "stream",
          "name": "stdout",
          "text": [
            "get_embeddings took 0.16 seconds to execute\n",
            "content:{'text': '2Automation', 'lists': []}\n",
            "Metadata before chunk creation: {'filename': 'ProtonGlow_URS copy.pdf', 'file_path': '/content/drive/My Drive/lifesciences/training_documents/ProtonGlow_URS copy.pdf', 'file_type': 'pdf', 'processed': '2025-02-16T11:12:29.462682'}\n",
            "get_embeddings took 0.12 seconds to execute\n",
            "content:{'text': 'throughstandardized communication protocols.', 'lists': []}\n",
            "Metadata before chunk creation: {'filename': 'ProtonGlow_URS copy.pdf', 'file_path': '/content/drive/My Drive/lifesciences/training_documents/ProtonGlow_URS copy.pdf', 'file_type': 'pdf', 'processed': '2025-02-16T11:12:29.462682'}\n"
          ]
        },
        {
          "output_type": "stream",
          "name": "stderr",
          "text": [
            "ERROR:root:Error extracting PDF tables: No module named 'camelot'\n",
            "ERROR:root:Error extracting PDF tables: No module named 'camelot'\n"
          ]
        },
        {
          "output_type": "stream",
          "name": "stdout",
          "text": [
            "get_embeddings took 0.14 seconds to execute\n",
            "content:{'text': 'manufacturing processesin real-time.', 'lists': []}\n",
            "Metadata before chunk creation: {'filename': 'ProtonGlow_URS copy.pdf', 'file_path': '/content/drive/My Drive/lifesciences/training_documents/ProtonGlow_URS copy.pdf', 'file_type': 'pdf', 'processed': '2025-02-16T11:12:29.462682'}\n",
            "get_embeddings took 0.13 seconds to execute\n",
            "content:{'text': 'document all automated operations and interventions.', 'lists': []}\n",
            "Metadata before chunk creation: {'filename': 'ProtonGlow_URS copy.pdf', 'file_path': '/content/drive/My Drive/lifesciences/training_documents/ProtonGlow_URS copy.pdf', 'file_type': 'pdf', 'processed': '2025-02-16T11:12:29.462682'}\n"
          ]
        },
        {
          "output_type": "stream",
          "name": "stderr",
          "text": [
            "ERROR:root:Error extracting PDF tables: No module named 'camelot'\n",
            "ERROR:root:Error extracting PDF tables: No module named 'camelot'\n"
          ]
        },
        {
          "output_type": "stream",
          "name": "stdout",
          "text": [
            "get_embeddings took 0.15 seconds to execute\n",
            "content:{'text': 'managementand supervision ofautomated operations.', 'lists': []}\n",
            "Metadata before chunk creation: {'filename': 'ProtonGlow_URS copy.pdf', 'file_path': '/content/drive/My Drive/lifesciences/training_documents/ProtonGlow_URS copy.pdf', 'file_type': 'pdf', 'processed': '2025-02-16T11:12:29.462682'}\n",
            "get_embeddings took 0.17 seconds to execute\n",
            "content:{'text': 'continuity and safety in case ofautomation failures.', 'lists': []}\n",
            "Metadata before chunk creation: {'filename': 'ProtonGlow_URS copy.pdf', 'file_path': '/content/drive/My Drive/lifesciences/training_documents/ProtonGlow_URS copy.pdf', 'file_type': 'pdf', 'processed': '2025-02-16T11:12:29.462682'}\n"
          ]
        },
        {
          "output_type": "stream",
          "name": "stderr",
          "text": [
            "ERROR:root:Error extracting PDF tables: No module named 'camelot'\n"
          ]
        },
        {
          "output_type": "stream",
          "name": "stdout",
          "text": [
            "get_embeddings took 0.17 seconds to execute\n",
            "content:{'text': '', 'lists': [['2.10Time Synchronization', '2.11Security Requirements', '2.12Anti Virusand Patching']]}\n",
            "Metadata before chunk creation: {'filename': 'ProtonGlow_URS copy.pdf', 'file_path': '/content/drive/My Drive/lifesciences/training_documents/ProtonGlow_URS copy.pdf', 'file_type': 'pdf', 'processed': '2025-02-16T11:12:29.462682'}\n"
          ]
        },
        {
          "output_type": "stream",
          "name": "stderr",
          "text": [
            "ERROR:root:Error extracting PDF tables: No module named 'camelot'\n"
          ]
        },
        {
          "output_type": "stream",
          "name": "stdout",
          "text": [
            "get_embeddings took 0.25 seconds to execute\n",
            "content:{'text': '', 'lists': [['2.13Electronic Signatures (21CFR 11)', '2.14Electronic Records(21 CFR 11)- Audit Trail', '2.15Electronic Records(21 CFR 11)- Data Retention', '2.16Electronic Records(21 CFR 11)- Backupand Disaster Recovery', '2.17Interface withThird Party Systems', '2.18Version Control', '2.19Environmental Requirements', '2.20Documentation Requirements', '2.21Training Requirements', '2.22TestSystem Requirements']]}\n",
            "Metadata before chunk creation: {'filename': 'ProtonGlow_URS copy.pdf', 'file_path': '/content/drive/My Drive/lifesciences/training_documents/ProtonGlow_URS copy.pdf', 'file_type': 'pdf', 'processed': '2025-02-16T11:12:29.462682'}\n"
          ]
        },
        {
          "output_type": "stream",
          "name": "stderr",
          "text": [
            "ERROR:root:Error extracting PDF tables: No module named 'camelot'\n",
            "ERROR:root:Error extracting PDF tables: No module named 'camelot'\n"
          ]
        },
        {
          "output_type": "stream",
          "name": "stdout",
          "text": [
            "get_embeddings took 0.71 seconds to execute\n",
            "content:{'text': '3ProcessControl', 'lists': []}\n",
            "Metadata before chunk creation: {'filename': 'ProtonGlow_URS copy.pdf', 'file_path': '/content/drive/My Drive/lifesciences/training_documents/ProtonGlow_URS copy.pdf', 'file_type': 'pdf', 'processed': '2025-02-16T11:12:29.462682'}\n",
            "get_embeddings took 0.13 seconds to execute\n",
            "content:{'text': 'without manualintervention.', 'lists': []}\n",
            "Metadata before chunk creation: {'filename': 'ProtonGlow_URS copy.pdf', 'file_path': '/content/drive/My Drive/lifesciences/training_documents/ProtonGlow_URS copy.pdf', 'file_type': 'pdf', 'processed': '2025-02-16T11:12:29.462682'}\n"
          ]
        },
        {
          "output_type": "stream",
          "name": "stderr",
          "text": [
            "ERROR:root:Error extracting PDF tables: No module named 'camelot'\n",
            "ERROR:root:Error extracting PDF tables: No module named 'camelot'\n"
          ]
        },
        {
          "output_type": "stream",
          "name": "stdout",
          "text": [
            "get_embeddings took 0.14 seconds to execute\n",
            "content:{'text': 'ensure continuous oversight andtimely decision-making.', 'lists': []}\n",
            "Metadata before chunk creation: {'filename': 'ProtonGlow_URS copy.pdf', 'file_path': '/content/drive/My Drive/lifesciences/training_documents/ProtonGlow_URS copy.pdf', 'file_type': 'pdf', 'processed': '2025-02-16T11:12:29.462682'}\n",
            "get_embeddings took 0.15 seconds to execute\n",
            "content:{'text': 'ensure productquality.', 'lists': []}\n",
            "Metadata before chunk creation: {'filename': 'ProtonGlow_URS copy.pdf', 'file_path': '/content/drive/My Drive/lifesciences/training_documents/ProtonGlow_URS copy.pdf', 'file_type': 'pdf', 'processed': '2025-02-16T11:12:29.462682'}\n"
          ]
        },
        {
          "output_type": "stream",
          "name": "stderr",
          "text": [
            "ERROR:root:Error extracting PDF tables: No module named 'camelot'\n",
            "ERROR:root:Error extracting PDF tables: No module named 'camelot'\n"
          ]
        },
        {
          "output_type": "stream",
          "name": "stdout",
          "text": [
            "get_embeddings took 0.13 seconds to execute\n",
            "content:{'text': 'outcomes andaccommodate production changes.', 'lists': []}\n",
            "Metadata before chunk creation: {'filename': 'ProtonGlow_URS copy.pdf', 'file_path': '/content/drive/My Drive/lifesciences/training_documents/ProtonGlow_URS copy.pdf', 'file_type': 'pdf', 'processed': '2025-02-16T11:12:29.462682'}\n",
            "get_embeddings took 0.15 seconds to execute\n",
            "content:{'text': 'from specified process parametersfor promptcorrective action.', 'lists': []}\n",
            "Metadata before chunk creation: {'filename': 'ProtonGlow_URS copy.pdf', 'file_path': '/content/drive/My Drive/lifesciences/training_documents/ProtonGlow_URS copy.pdf', 'file_type': 'pdf', 'processed': '2025-02-16T11:12:29.462682'}\n"
          ]
        },
        {
          "output_type": "stream",
          "name": "stderr",
          "text": [
            "ERROR:root:Error extracting PDF tables: No module named 'camelot'\n",
            "ERROR:root:Error extracting PDF tables: No module named 'camelot'\n"
          ]
        },
        {
          "output_type": "stream",
          "name": "stdout",
          "text": [
            "get_embeddings took 0.17 seconds to execute\n",
            "content:{'text': 'facilitateprocess analysis.', 'lists': []}\n",
            "Metadata before chunk creation: {'filename': 'ProtonGlow_URS copy.pdf', 'file_path': '/content/drive/My Drive/lifesciences/training_documents/ProtonGlow_URS copy.pdf', 'file_type': 'pdf', 'processed': '2025-02-16T11:12:29.462682'}\n",
            "get_embeddings took 0.13 seconds to execute\n",
            "content:{'text': 'recommendimprovements to currentoperations.', 'lists': []}\n",
            "Metadata before chunk creation: {'filename': 'ProtonGlow_URS copy.pdf', 'file_path': '/content/drive/My Drive/lifesciences/training_documents/ProtonGlow_URS copy.pdf', 'file_type': 'pdf', 'processed': '2025-02-16T11:12:29.462682'}\n"
          ]
        },
        {
          "output_type": "stream",
          "name": "stderr",
          "text": [
            "ERROR:root:Error extracting PDF tables: No module named 'camelot'\n",
            "ERROR:root:Error extracting PDF tables: No module named 'camelot'\n"
          ]
        },
        {
          "output_type": "stream",
          "name": "stdout",
          "text": [
            "get_embeddings took 0.15 seconds to execute\n",
            "content:{'text': '4ProcessSafety', 'lists': []}\n",
            "Metadata before chunk creation: {'filename': 'ProtonGlow_URS copy.pdf', 'file_path': '/content/drive/My Drive/lifesciences/training_documents/ProtonGlow_URS copy.pdf', 'file_type': 'pdf', 'processed': '2025-02-16T11:12:29.462682'}\n",
            "get_embeddings took 0.14 seconds to execute\n",
            "content:{'text': 'ensuring they remain within predefined limitsthroughout the production cycle.', 'lists': []}\n",
            "Metadata before chunk creation: {'filename': 'ProtonGlow_URS copy.pdf', 'file_path': '/content/drive/My Drive/lifesciences/training_documents/ProtonGlow_URS copy.pdf', 'file_type': 'pdf', 'processed': '2025-02-16T11:12:29.462682'}\n"
          ]
        },
        {
          "output_type": "stream",
          "name": "stderr",
          "text": [
            "ERROR:root:Error extracting PDF tables: No module named 'camelot'\n",
            "ERROR:root:Error extracting PDF tables: No module named 'camelot'\n"
          ]
        },
        {
          "output_type": "stream",
          "name": "stdout",
          "text": [
            "get_embeddings took 0.20 seconds to execute\n",
            "content:{'text': 'and date ofchange, to ensure traceabilityand accountability.', 'lists': []}\n",
            "Metadata before chunk creation: {'filename': 'ProtonGlow_URS copy.pdf', 'file_path': '/content/drive/My Drive/lifesciences/training_documents/ProtonGlow_URS copy.pdf', 'file_type': 'pdf', 'processed': '2025-02-16T11:12:29.462682'}\n",
            "get_embeddings took 0.18 seconds to execute\n",
            "content:{'text': 'time data inputs to maintain optimalprocessing conditions.', 'lists': []}\n",
            "Metadata before chunk creation: {'filename': 'ProtonGlow_URS copy.pdf', 'file_path': '/content/drive/My Drive/lifesciences/training_documents/ProtonGlow_URS copy.pdf', 'file_type': 'pdf', 'processed': '2025-02-16T11:12:29.462682'}\n"
          ]
        },
        {
          "output_type": "stream",
          "name": "stderr",
          "text": [
            "ERROR:root:Error extracting PDF tables: No module named 'camelot'\n",
            "ERROR:root:Error extracting PDF tables: No module named 'camelot'\n"
          ]
        },
        {
          "output_type": "stream",
          "name": "stdout",
          "text": [
            "get_embeddings took 0.17 seconds to execute\n",
            "content:{'text': 'set process parameters,with visualand audiblesignals.', 'lists': []}\n",
            "Metadata before chunk creation: {'filename': 'ProtonGlow_URS copy.pdf', 'file_path': '/content/drive/My Drive/lifesciences/training_documents/ProtonGlow_URS copy.pdf', 'file_type': 'pdf', 'processed': '2025-02-16T11:12:29.462682'}\n",
            "get_embeddings took 0.18 seconds to execute\n",
            "content:{'text': 'automated adjustments fail to correctdeviations, with all actions recorded inthe audit\\ntrail.', 'lists': []}\n",
            "Metadata before chunk creation: {'filename': 'ProtonGlow_URS copy.pdf', 'file_path': '/content/drive/My Drive/lifesciences/training_documents/ProtonGlow_URS copy.pdf', 'file_type': 'pdf', 'processed': '2025-02-16T11:12:29.462682'}\n"
          ]
        },
        {
          "output_type": "stream",
          "name": "stderr",
          "text": [
            "ERROR:root:Error extracting PDF tables: No module named 'camelot'\n",
            "ERROR:root:Error extracting PDF tables: No module named 'camelot'\n"
          ]
        },
        {
          "output_type": "stream",
          "name": "stdout",
          "text": [
            "get_embeddings took 0.21 seconds to execute\n",
            "content:{'text': '5Machine Safety', 'lists': []}\n",
            "Metadata before chunk creation: {'filename': 'ProtonGlow_URS copy.pdf', 'file_path': '/content/drive/My Drive/lifesciences/training_documents/ProtonGlow_URS copy.pdf', 'file_type': 'pdf', 'processed': '2025-02-16T11:12:29.462682'}\n",
            "get_embeddings took 0.12 seconds to execute\n",
            "content:{'text': 'activatedboth automatically andmanually to safely terminate operations inthe eventof a\\ncriticalfailure.', 'lists': []}\n",
            "Metadata before chunk creation: {'filename': 'ProtonGlow_URS copy.pdf', 'file_path': '/content/drive/My Drive/lifesciences/training_documents/ProtonGlow_URS copy.pdf', 'file_type': 'pdf', 'processed': '2025-02-16T11:12:29.462682'}\n"
          ]
        },
        {
          "output_type": "stream",
          "name": "stderr",
          "text": [
            "ERROR:root:Error extracting PDF tables: No module named 'camelot'\n",
            "ERROR:root:Error extracting PDF tables: No module named 'camelot'\n"
          ]
        },
        {
          "output_type": "stream",
          "name": "stdout",
          "text": [
            "get_embeddings took 0.14 seconds to execute\n",
            "content:{'text': 'sequencesand ensure that equipment cannotbe started oroperated in a hazardous\\nmanner.', 'lists': []}\n",
            "Metadata before chunk creation: {'filename': 'ProtonGlow_URS copy.pdf', 'file_path': '/content/drive/My Drive/lifesciences/training_documents/ProtonGlow_URS copy.pdf', 'file_type': 'pdf', 'processed': '2025-02-16T11:12:29.462682'}\n",
            "get_embeddings took 0.12 seconds to execute\n",
            "content:{'text': 'orexposure during normaloperationand emergency scenarios.', 'lists': []}\n",
            "Metadata before chunk creation: {'filename': 'ProtonGlow_URS copy.pdf', 'file_path': '/content/drive/My Drive/lifesciences/training_documents/ProtonGlow_URS copy.pdf', 'file_type': 'pdf', 'processed': '2025-02-16T11:12:29.462682'}\n"
          ]
        },
        {
          "output_type": "stream",
          "name": "stderr",
          "text": [
            "ERROR:root:Error extracting PDF tables: No module named 'camelot'\n",
            "ERROR:root:Error extracting PDF tables: No module named 'camelot'\n"
          ]
        },
        {
          "output_type": "stream",
          "name": "stdout",
          "text": [
            "get_embeddings took 0.12 seconds to execute\n",
            "content:{'text': 'from exceedingsafe operational limits, thereby avoiding equipment damage or failure.', 'lists': []}\n",
            "Metadata before chunk creation: {'filename': 'ProtonGlow_URS copy.pdf', 'file_path': '/content/drive/My Drive/lifesciences/training_documents/ProtonGlow_URS copy.pdf', 'file_type': 'pdf', 'processed': '2025-02-16T11:12:29.462682'}\n",
            "get_embeddings took 0.11 seconds to execute\n",
            "content:{'text': 'machineoperations immediately when activated.', 'lists': []}\n",
            "Metadata before chunk creation: {'filename': 'ProtonGlow_URS copy.pdf', 'file_path': '/content/drive/My Drive/lifesciences/training_documents/ProtonGlow_URS copy.pdf', 'file_type': 'pdf', 'processed': '2025-02-16T11:12:29.462682'}\n"
          ]
        },
        {
          "output_type": "stream",
          "name": "stderr",
          "text": [
            "ERROR:root:Error extracting PDF tables: No module named 'camelot'\n",
            "ERROR:root:Error extracting PDF tables: No module named 'camelot'\n"
          ]
        },
        {
          "output_type": "stream",
          "name": "stdout",
          "text": [
            "get_embeddings took 0.11 seconds to execute\n",
            "content:{'text': 'areas during operation, ensuring usersafety.', 'lists': []}\n",
            "Metadata before chunk creation: {'filename': 'ProtonGlow_URS copy.pdf', 'file_path': '/content/drive/My Drive/lifesciences/training_documents/ProtonGlow_URS copy.pdf', 'file_type': 'pdf', 'processed': '2025-02-16T11:12:29.462682'}\n",
            "get_embeddings took 0.10 seconds to execute\n",
            "content:{'text': 'properlyshut off andcannot be restarted until maintenance or repairsare complete.', 'lists': []}\n",
            "Metadata before chunk creation: {'filename': 'ProtonGlow_URS copy.pdf', 'file_path': '/content/drive/My Drive/lifesciences/training_documents/ProtonGlow_URS copy.pdf', 'file_type': 'pdf', 'processed': '2025-02-16T11:12:29.462682'}\n"
          ]
        },
        {
          "output_type": "stream",
          "name": "stderr",
          "text": [
            "ERROR:root:Error extracting PDF tables: No module named 'camelot'\n",
            "ERROR:root:Error extracting PDF tables: No module named 'camelot'\n"
          ]
        },
        {
          "output_type": "stream",
          "name": "stdout",
          "text": [
            "get_embeddings took 0.16 seconds to execute\n",
            "content:{'text': 'conditions orpotential hazards, providingtimely warningsto preventaccidents.', 'lists': []}\n",
            "Metadata before chunk creation: {'filename': 'ProtonGlow_URS copy.pdf', 'file_path': '/content/drive/My Drive/lifesciences/training_documents/ProtonGlow_URS copy.pdf', 'file_type': 'pdf', 'processed': '2025-02-16T11:12:29.462682'}\n",
            "get_embeddings took 0.13 seconds to execute\n",
            "content:{'text': 'notifyoperators ofunsafe conditions promptly.', 'lists': []}\n",
            "Metadata before chunk creation: {'filename': 'ProtonGlow_URS copy.pdf', 'file_path': '/content/drive/My Drive/lifesciences/training_documents/ProtonGlow_URS copy.pdf', 'file_type': 'pdf', 'processed': '2025-02-16T11:12:29.462682'}\n"
          ]
        },
        {
          "output_type": "stream",
          "name": "stderr",
          "text": [
            "ERROR:root:Error extracting PDF tables: No module named 'camelot'\n",
            "ERROR:root:Error extracting PDF tables: No module named 'camelot'\n"
          ]
        },
        {
          "output_type": "stream",
          "name": "stdout",
          "text": [
            "get_embeddings took 0.12 seconds to execute\n",
            "content:{'text': 'arenot inplace or accesspanels are open,ensuring zerorisk ofaccidental injury.', 'lists': []}\n",
            "Metadata before chunk creation: {'filename': 'ProtonGlow_URS copy.pdf', 'file_path': '/content/drive/My Drive/lifesciences/training_documents/ProtonGlow_URS copy.pdf', 'file_type': 'pdf', 'processed': '2025-02-16T11:12:29.462682'}\n",
            "get_embeddings took 0.14 seconds to execute\n",
            "content:{'text': 'automatic safety mechanisms to preventleakage orexposure during standard operations\\nandemergencies.', 'lists': []}\n",
            "Metadata before chunk creation: {'filename': 'ProtonGlow_URS copy.pdf', 'file_path': '/content/drive/My Drive/lifesciences/training_documents/ProtonGlow_URS copy.pdf', 'file_type': 'pdf', 'processed': '2025-02-16T11:12:29.462682'}\n"
          ]
        },
        {
          "output_type": "stream",
          "name": "stderr",
          "text": [
            "ERROR:root:Error extracting PDF tables: No module named 'camelot'\n",
            "ERROR:root:Error extracting PDF tables: No module named 'camelot'\n"
          ]
        },
        {
          "output_type": "stream",
          "name": "stdout",
          "text": [
            "get_embeddings took 0.15 seconds to execute\n",
            "content:{'text': 'mechanismsthat maintain pressure withinsafe limits to preventequipment damage.', 'lists': []}\n",
            "Metadata before chunk creation: {'filename': 'ProtonGlow_URS copy.pdf', 'file_path': '/content/drive/My Drive/lifesciences/training_documents/ProtonGlow_URS copy.pdf', 'file_type': 'pdf', 'processed': '2025-02-16T11:12:29.462682'}\n",
            "get_embeddings took 0.12 seconds to execute\n",
            "content:{'text': 'immediately ceasing all operations when triggered to ensureuser safety.', 'lists': []}\n",
            "Metadata before chunk creation: {'filename': 'ProtonGlow_URS copy.pdf', 'file_path': '/content/drive/My Drive/lifesciences/training_documents/ProtonGlow_URS copy.pdf', 'file_type': 'pdf', 'processed': '2025-02-16T11:12:29.462682'}\n"
          ]
        },
        {
          "output_type": "stream",
          "name": "stderr",
          "text": [
            "ERROR:root:Error extracting PDF tables: No module named 'camelot'\n",
            "ERROR:root:Error extracting PDF tables: No module named 'camelot'\n"
          ]
        },
        {
          "output_type": "stream",
          "name": "stdout",
          "text": [
            "get_embeddings took 0.13 seconds to execute\n",
            "content:{'text': 'with automatic machine shutdown if guards areremoved orcompromised.', 'lists': []}\n",
            "Metadata before chunk creation: {'filename': 'ProtonGlow_URS copy.pdf', 'file_path': '/content/drive/My Drive/lifesciences/training_documents/ProtonGlow_URS copy.pdf', 'file_type': 'pdf', 'processed': '2025-02-16T11:12:29.462682'}\n",
            "get_embeddings took 0.15 seconds to execute\n",
            "content:{'text': 'remainsinoperable during maintenance, successfully preventing accidental restart.', 'lists': []}\n",
            "Metadata before chunk creation: {'filename': 'ProtonGlow_URS copy.pdf', 'file_path': '/content/drive/My Drive/lifesciences/training_documents/ProtonGlow_URS copy.pdf', 'file_type': 'pdf', 'processed': '2025-02-16T11:12:29.462682'}\n"
          ]
        },
        {
          "output_type": "stream",
          "name": "stderr",
          "text": [
            "ERROR:root:Error extracting PDF tables: No module named 'camelot'\n",
            "ERROR:root:Error extracting PDF tables: No module named 'camelot'\n"
          ]
        },
        {
          "output_type": "stream",
          "name": "stdout",
          "text": [
            "get_embeddings took 0.13 seconds to execute\n",
            "content:{'text': 'hazardousareas during operation,ensuring user safety through physical separation.', 'lists': []}\n",
            "Metadata before chunk creation: {'filename': 'ProtonGlow_URS copy.pdf', 'file_path': '/content/drive/My Drive/lifesciences/training_documents/ProtonGlow_URS copy.pdf', 'file_type': 'pdf', 'processed': '2025-02-16T11:12:29.462682'}\n",
            "get_embeddings took 0.12 seconds to execute\n",
            "content:{'text': 'operateor maintain theequipment, reducing the risk ofunauthorized use.', 'lists': []}\n",
            "Metadata before chunk creation: {'filename': 'ProtonGlow_URS copy.pdf', 'file_path': '/content/drive/My Drive/lifesciences/training_documents/ProtonGlow_URS copy.pdf', 'file_type': 'pdf', 'processed': '2025-02-16T11:12:29.462682'}\n"
          ]
        },
        {
          "output_type": "stream",
          "name": "stderr",
          "text": [
            "ERROR:root:Error extracting PDF tables: No module named 'camelot'\n",
            "ERROR:root:Error extracting PDF tables: No module named 'camelot'\n"
          ]
        },
        {
          "output_type": "stream",
          "name": "stdout",
          "text": [
            "get_embeddings took 0.14 seconds to execute\n",
            "content:{'text': 'providewarnings andinstructions forsafe operation.', 'lists': []}\n",
            "Metadata before chunk creation: {'filename': 'ProtonGlow_URS copy.pdf', 'file_path': '/content/drive/My Drive/lifesciences/training_documents/ProtonGlow_URS copy.pdf', 'file_type': 'pdf', 'processed': '2025-02-16T11:12:29.462682'}\n",
            "get_embeddings took 0.11 seconds to execute\n",
            "content:{'text': 'equipment,enablingimmediate shutdown in case ofemergency.', 'lists': []}\n",
            "Metadata before chunk creation: {'filename': 'ProtonGlow_URS copy.pdf', 'file_path': '/content/drive/My Drive/lifesciences/training_documents/ProtonGlow_URS copy.pdf', 'file_type': 'pdf', 'processed': '2025-02-16T11:12:29.462682'}\n"
          ]
        },
        {
          "output_type": "stream",
          "name": "stderr",
          "text": [
            "ERROR:root:Error extracting PDF tables: No module named 'camelot'\n",
            "ERROR:root:Error extracting PDF tables: No module named 'camelot'\n"
          ]
        },
        {
          "output_type": "stream",
          "name": "stdout",
          "text": [
            "get_embeddings took 0.12 seconds to execute\n",
            "content:{'text': '6Vessels', 'lists': []}\n",
            "Metadata before chunk creation: {'filename': 'ProtonGlow_URS copy.pdf', 'file_path': '/content/drive/My Drive/lifesciences/training_documents/ProtonGlow_URS copy.pdf', 'file_type': 'pdf', 'processed': '2025-02-16T11:12:29.462682'}\n",
            "get_embeddings took 0.09 seconds to execute\n",
            "content:{'text': 'productsand cleaning agentsused during production.', 'lists': []}\n",
            "Metadata before chunk creation: {'filename': 'ProtonGlow_URS copy.pdf', 'file_path': '/content/drive/My Drive/lifesciences/training_documents/ProtonGlow_URS copy.pdf', 'file_type': 'pdf', 'processed': '2025-02-16T11:12:29.462682'}\n"
          ]
        },
        {
          "output_type": "stream",
          "name": "stderr",
          "text": [
            "ERROR:root:Error extracting PDF tables: No module named 'camelot'\n",
            "ERROR:root:Error extracting PDF tables: No module named 'camelot'\n"
          ]
        },
        {
          "output_type": "stream",
          "name": "stdout",
          "text": [
            "get_embeddings took 0.11 seconds to execute\n",
            "content:{'text': 'than 0.5 micrometers to ensurea smoothsurface that promotes cleanability andreduces\\ncontamination risk.', 'lists': []}\n",
            "Metadata before chunk creation: {'filename': 'ProtonGlow_URS copy.pdf', 'file_path': '/content/drive/My Drive/lifesciences/training_documents/ProtonGlow_URS copy.pdf', 'file_type': 'pdf', 'processed': '2025-02-16T11:12:29.462682'}\n",
            "get_embeddings took 0.17 seconds to execute\n",
            "content:{'text': 'removed without residue or pooling.', 'lists': []}\n",
            "Metadata before chunk creation: {'filename': 'ProtonGlow_URS copy.pdf', 'file_path': '/content/drive/My Drive/lifesciences/training_documents/ProtonGlow_URS copy.pdf', 'file_type': 'pdf', 'processed': '2025-02-16T11:12:29.462682'}\n"
          ]
        },
        {
          "output_type": "stream",
          "name": "stderr",
          "text": [
            "ERROR:root:Error extracting PDF tables: No module named 'camelot'\n",
            "ERROR:root:Error extracting PDF tables: No module named 'camelot'\n"
          ]
        },
        {
          "output_type": "stream",
          "name": "stdout",
          "text": [
            "get_embeddings took 0.11 seconds to execute\n",
            "content:{'text': 'cleaningprocesses without the risk ofmicrobial growthor contamination.', 'lists': []}\n",
            "Metadata before chunk creation: {'filename': 'ProtonGlow_URS copy.pdf', 'file_path': '/content/drive/My Drive/lifesciences/training_documents/ProtonGlow_URS copy.pdf', 'file_type': 'pdf', 'processed': '2025-02-16T11:12:29.462682'}\n",
            "get_embeddings took 0.12 seconds to execute\n",
            "content:{'text': '', 'lists': [['6.10Cleaning and Maintenance', '6.11Operational Requirements', '6.12Regulatoryand Compliance Standards', '6.13Documentation and Record-Keeping']]}\n",
            "Metadata before chunk creation: {'filename': 'ProtonGlow_URS copy.pdf', 'file_path': '/content/drive/My Drive/lifesciences/training_documents/ProtonGlow_URS copy.pdf', 'file_type': 'pdf', 'processed': '2025-02-16T11:12:29.462682'}\n"
          ]
        },
        {
          "output_type": "stream",
          "name": "stderr",
          "text": [
            "ERROR:root:Error extracting PDF tables: No module named 'camelot'\n"
          ]
        },
        {
          "output_type": "stream",
          "name": "stdout",
          "text": [
            "get_embeddings took 0.19 seconds to execute\n",
            "content:{'text': '', 'lists': [['6.14Training Requirements', '6.15Vendor andWarrantySpecifications', '6.16Surface Finish Requirements', '6.17StructuralIntegrity']]}\n",
            "Metadata before chunk creation: {'filename': 'ProtonGlow_URS copy.pdf', 'file_path': '/content/drive/My Drive/lifesciences/training_documents/ProtonGlow_URS copy.pdf', 'file_type': 'pdf', 'processed': '2025-02-16T11:12:29.462682'}\n"
          ]
        },
        {
          "output_type": "stream",
          "name": "stderr",
          "text": [
            "ERROR:root:Error extracting PDF tables: No module named 'camelot'\n"
          ]
        },
        {
          "output_type": "stream",
          "name": "stdout",
          "text": [
            "get_embeddings took 0.21 seconds to execute\n",
            "content:{'text': 'Bejoy is a very good Boy', 'lists': []}\n",
            "Metadata before chunk creation: {'filename': 'Bejoy is a very good Boy.docx', 'file_path': '/content/drive/My Drive/lifesciences/training_documents/Bejoy is a very good Boy.docx', 'file_type': 'docx', 'processed': '2025-02-16T11:12:39.520208'}\n",
            "get_embeddings took 0.09 seconds to execute\n",
            "INFO:     95.223.75.30:0 - \"GET /train HTTP/1.1\" 200 OK\n",
            "Initializing document manager...\n",
            "setup_model took 0.35 seconds to execute\n",
            "DocumentManager initialized with base path: /content/drive/My Drive/lifesciences\n",
            "content:{'text': 'Table of Contents\\n1 General Requirements\\n2 Automation\\n3 Process Control\\n4 Process Safety\\n5 Machine Safety\\n6 Vessels', 'lists': [['1.1 Utilites', '1.2 Facility Requirements', '1.3 Safety Requirements', '1.4 Environmental Requirements', '1.5 Calibration Requirements', '1.6 Documentation', '1.7 Training Requirements', '1.8 Vendor and Warranty Specifications'], ['2.1 Platform and Networking Requirements', '2.2 Hardware Requirements', '2.3 Software Requirements', '2.4 System Performance Requirements', '2.5 Historical Data Trending', '2.6 Alarm and Events', '2.7 Operational Requirements', '2.8 User Roles and Access Requirements', '2.9 Password Rules', '2.10 Time Synchronization', '2.11 Security Requirements', '2.12 Anti Virus and Patching', '2.13 Electronic Signatures (21 CFR 11)', '2.14 Electronic Records (21 CFR 11) - Audit Trail', '2.15 Electronic Records (21 CFR 11) - Data Retention', '2.16 Electronic Records (21 CFR 11) - Backup and Disaster Recovery', '2.17 Interface with Third Party Systems', '2.18 Version Control', '2.19 Environmental Requirements', '2.20 Documentation Requirements', '2.21 Training Requirements', '2.22 Test System Requirements'], ['3.1 Temperature Control', '3.2 Pressure Control', '3.3 pH Control'], ['4.1 Reactor Design and Safety Features', '4.2 Chemical Hazard Management', '4.3 Process Monitoring and Control', '4.4 Safety in Chemical Reactions', '4.5 Compliance and Standards'], ['5.1 Emergency Stop Systems', '5.2 Safety Doors and Guards', '5.3 Light Gates and Safety Sensors', '5.4 Safety Control Systems', '5.5 Operator Training and Signage', '5.6 Regulatory Compliance'], ['6.1 General Requirements', '6.2 Design and Dimensional Requirements', '6.3 Material of Construction', '6.4 Construction Compliance', '6.5 Temperature and Pressure Controls', '6.6 Agitation and Mixing Requirements', '6.7 Sealing and Closure Mechanisms', '6.8 Safety Features and Protocols', '6.9 Instrumentation and Monitoring', '6.10 Cleaning and Maintenance', '6.11 Operational Requirements', '6.12 Regulatory and Compliance Standards', '6.13 Documentation and Record-Keeping', '6.14 Training Requirements', '6.15 Vendor and Warranty Specifications', '6.16 Surface Finish Requirements', '6.17 Structural Integrity']]}\n",
            "Metadata before chunk creation: {'filename': 'ProtonGlow_URS copy.docx', 'file_path': '/content/drive/My Drive/lifesciences/training_documents/ProtonGlow_URS copy.docx', 'file_type': 'docx', 'processed': '2025-02-16T11:12:44.524883'}\n",
            "get_embeddings took 0.17 seconds to execute\n",
            "get_embeddings took 0.24 seconds to execute\n",
            "get_embeddings took 0.61 seconds to execute\n",
            "get_embeddings took 0.11 seconds to execute\n",
            "get_embeddings took 0.19 seconds to execute\n",
            "get_embeddings took 0.26 seconds to execute\n",
            "get_embeddings took 0.64 seconds to execute\n",
            "get_embeddings took 1.38 seconds to execute\n",
            "get_embeddings took 0.73 seconds to execute\n",
            "get_embeddings took 1.09 seconds to execute\n",
            "get_embeddings took 0.86 seconds to execute\n",
            "get_embeddings took 1.91 seconds to execute\n",
            "get_embeddings took 0.50 seconds to execute\n"
          ]
        },
        {
          "output_type": "stream",
          "name": "stderr",
          "text": [
            "ERROR:root:Error extracting PDF tables: No module named 'camelot'\n"
          ]
        },
        {
          "output_type": "stream",
          "name": "stdout",
          "text": [
            "content:{'text': '1General Requirements', 'lists': []}\n",
            "Metadata before chunk creation: {'filename': 'ProtonGlow_URS copy.pdf', 'file_path': '/content/drive/My Drive/lifesciences/training_documents/ProtonGlow_URS copy.pdf', 'file_type': 'pdf', 'processed': '2025-02-16T11:12:53.362706'}\n",
            "get_embeddings took 0.10 seconds to execute\n",
            "content:{'text': 'pharmaceutical manufacturing, includingGMP and FDA regulations.', 'lists': []}\n",
            "Metadata before chunk creation: {'filename': 'ProtonGlow_URS copy.pdf', 'file_path': '/content/drive/My Drive/lifesciences/training_documents/ProtonGlow_URS copy.pdf', 'file_type': 'pdf', 'processed': '2025-02-16T11:12:53.362706'}\n"
          ]
        },
        {
          "output_type": "stream",
          "name": "stderr",
          "text": [
            "ERROR:root:Error extracting PDF tables: No module named 'camelot'\n",
            "ERROR:root:Error extracting PDF tables: No module named 'camelot'\n"
          ]
        },
        {
          "output_type": "stream",
          "name": "stdout",
          "text": [
            "get_embeddings took 0.11 seconds to execute\n",
            "content:{'text': 'reliability during operational hours.', 'lists': []}\n",
            "Metadata before chunk creation: {'filename': 'ProtonGlow_URS copy.pdf', 'file_path': '/content/drive/My Drive/lifesciences/training_documents/ProtonGlow_URS copy.pdf', 'file_type': 'pdf', 'processed': '2025-02-16T11:12:53.362706'}\n",
            "get_embeddings took 0.10 seconds to execute\n",
            "content:{'text': 'time between batches by 20% compared to existing equipment.', 'lists': []}\n",
            "Metadata before chunk creation: {'filename': 'ProtonGlow_URS copy.pdf', 'file_path': '/content/drive/My Drive/lifesciences/training_documents/ProtonGlow_URS copy.pdf', 'file_type': 'pdf', 'processed': '2025-02-16T11:12:53.362706'}\n"
          ]
        },
        {
          "output_type": "stream",
          "name": "stderr",
          "text": [
            "ERROR:root:Error extracting PDF tables: No module named 'camelot'\n",
            "ERROR:root:Error extracting PDF tables: No module named 'camelot'\n"
          ]
        },
        {
          "output_type": "stream",
          "name": "stdout",
          "text": [
            "get_embeddings took 0.12 seconds to execute\n",
            "content:{'text': 'interlocks, to ensure operatorand product safety.', 'lists': []}\n",
            "Metadata before chunk creation: {'filename': 'ProtonGlow_URS copy.pdf', 'file_path': '/content/drive/My Drive/lifesciences/training_documents/ProtonGlow_URS copy.pdf', 'file_type': 'pdf', 'processed': '2025-02-16T11:12:53.362706'}\n",
            "get_embeddings took 0.13 seconds to execute\n",
            "content:{'text': 'varying skill levels, facilitating ease ofuse in dailyoperations.', 'lists': []}\n",
            "Metadata before chunk creation: {'filename': 'ProtonGlow_URS copy.pdf', 'file_path': '/content/drive/My Drive/lifesciences/training_documents/ProtonGlow_URS copy.pdf', 'file_type': 'pdf', 'processed': '2025-02-16T11:12:53.362706'}\n"
          ]
        },
        {
          "output_type": "stream",
          "name": "stderr",
          "text": [
            "ERROR:root:Error extracting PDF tables: No module named 'camelot'\n",
            "ERROR:root:Error extracting PDF tables: No module named 'camelot'\n"
          ]
        },
        {
          "output_type": "stream",
          "name": "stdout",
          "text": [
            "get_embeddings took 0.12 seconds to execute\n",
            "content:{'text': 'maintenance and repairs, reducing downtime during maintenance activities by at least\\n15%.', 'lists': []}\n",
            "Metadata before chunk creation: {'filename': 'ProtonGlow_URS copy.pdf', 'file_path': '/content/drive/My Drive/lifesciences/training_documents/ProtonGlow_URS copy.pdf', 'file_type': 'pdf', 'processed': '2025-02-16T11:12:53.362706'}\n",
            "get_embeddings took 0.12 seconds to execute\n",
            "content:{'text': 'production capacity withoutsignificant disruption to existing operations.', 'lists': []}\n",
            "Metadata before chunk creation: {'filename': 'ProtonGlow_URS copy.pdf', 'file_path': '/content/drive/My Drive/lifesciences/training_documents/ProtonGlow_URS copy.pdf', 'file_type': 'pdf', 'processed': '2025-02-16T11:12:53.362706'}\n"
          ]
        },
        {
          "output_type": "stream",
          "name": "stderr",
          "text": [
            "ERROR:root:Error extracting PDF tables: No module named 'camelot'\n",
            "ERROR:root:Error extracting PDF tables: No module named 'camelot'\n"
          ]
        },
        {
          "output_type": "stream",
          "name": "stdout",
          "text": [
            "get_embeddings took 0.12 seconds to execute\n",
            "content:{'text': 'protocols, protecting data from unauthorized access and corruption.', 'lists': []}\n",
            "Metadata before chunk creation: {'filename': 'ProtonGlow_URS copy.pdf', 'file_path': '/content/drive/My Drive/lifesciences/training_documents/ProtonGlow_URS copy.pdf', 'file_type': 'pdf', 'processed': '2025-02-16T11:12:53.362706'}\n",
            "get_embeddings took 0.12 seconds to execute\n",
            "content:{'text': '2Automation', 'lists': []}\n",
            "Metadata before chunk creation: {'filename': 'ProtonGlow_URS copy.pdf', 'file_path': '/content/drive/My Drive/lifesciences/training_documents/ProtonGlow_URS copy.pdf', 'file_type': 'pdf', 'processed': '2025-02-16T11:12:53.362706'}\n"
          ]
        },
        {
          "output_type": "stream",
          "name": "stderr",
          "text": [
            "ERROR:root:Error extracting PDF tables: No module named 'camelot'\n",
            "ERROR:root:Error extracting PDF tables: No module named 'camelot'\n"
          ]
        },
        {
          "output_type": "stream",
          "name": "stdout",
          "text": [
            "get_embeddings took 0.10 seconds to execute\n",
            "content:{'text': 'throughstandardized communication protocols.', 'lists': []}\n",
            "Metadata before chunk creation: {'filename': 'ProtonGlow_URS copy.pdf', 'file_path': '/content/drive/My Drive/lifesciences/training_documents/ProtonGlow_URS copy.pdf', 'file_type': 'pdf', 'processed': '2025-02-16T11:12:53.362706'}\n",
            "get_embeddings took 0.11 seconds to execute\n",
            "content:{'text': 'manufacturing processesin real-time.', 'lists': []}\n",
            "Metadata before chunk creation: {'filename': 'ProtonGlow_URS copy.pdf', 'file_path': '/content/drive/My Drive/lifesciences/training_documents/ProtonGlow_URS copy.pdf', 'file_type': 'pdf', 'processed': '2025-02-16T11:12:53.362706'}\n"
          ]
        },
        {
          "output_type": "stream",
          "name": "stderr",
          "text": [
            "ERROR:root:Error extracting PDF tables: No module named 'camelot'\n",
            "ERROR:root:Error extracting PDF tables: No module named 'camelot'\n"
          ]
        },
        {
          "output_type": "stream",
          "name": "stdout",
          "text": [
            "get_embeddings took 0.11 seconds to execute\n",
            "content:{'text': 'document all automated operations and interventions.', 'lists': []}\n",
            "Metadata before chunk creation: {'filename': 'ProtonGlow_URS copy.pdf', 'file_path': '/content/drive/My Drive/lifesciences/training_documents/ProtonGlow_URS copy.pdf', 'file_type': 'pdf', 'processed': '2025-02-16T11:12:53.362706'}\n",
            "get_embeddings took 0.10 seconds to execute\n",
            "content:{'text': 'managementand supervision ofautomated operations.', 'lists': []}\n",
            "Metadata before chunk creation: {'filename': 'ProtonGlow_URS copy.pdf', 'file_path': '/content/drive/My Drive/lifesciences/training_documents/ProtonGlow_URS copy.pdf', 'file_type': 'pdf', 'processed': '2025-02-16T11:12:53.362706'}\n"
          ]
        },
        {
          "output_type": "stream",
          "name": "stderr",
          "text": [
            "ERROR:root:Error extracting PDF tables: No module named 'camelot'\n",
            "ERROR:root:Error extracting PDF tables: No module named 'camelot'\n"
          ]
        },
        {
          "output_type": "stream",
          "name": "stdout",
          "text": [
            "get_embeddings took 0.12 seconds to execute\n",
            "content:{'text': 'continuity and safety in case ofautomation failures.', 'lists': []}\n",
            "Metadata before chunk creation: {'filename': 'ProtonGlow_URS copy.pdf', 'file_path': '/content/drive/My Drive/lifesciences/training_documents/ProtonGlow_URS copy.pdf', 'file_type': 'pdf', 'processed': '2025-02-16T11:12:53.362706'}\n",
            "get_embeddings took 0.11 seconds to execute\n",
            "content:{'text': '', 'lists': [['2.10Time Synchronization', '2.11Security Requirements', '2.12Anti Virusand Patching']]}\n",
            "Metadata before chunk creation: {'filename': 'ProtonGlow_URS copy.pdf', 'file_path': '/content/drive/My Drive/lifesciences/training_documents/ProtonGlow_URS copy.pdf', 'file_type': 'pdf', 'processed': '2025-02-16T11:12:53.362706'}\n"
          ]
        },
        {
          "output_type": "stream",
          "name": "stderr",
          "text": [
            "ERROR:root:Error extracting PDF tables: No module named 'camelot'\n"
          ]
        },
        {
          "output_type": "stream",
          "name": "stdout",
          "text": [
            "get_embeddings took 0.16 seconds to execute\n",
            "content:{'text': '', 'lists': [['2.13Electronic Signatures (21CFR 11)', '2.14Electronic Records(21 CFR 11)- Audit Trail', '2.15Electronic Records(21 CFR 11)- Data Retention', '2.16Electronic Records(21 CFR 11)- Backupand Disaster Recovery', '2.17Interface withThird Party Systems', '2.18Version Control', '2.19Environmental Requirements', '2.20Documentation Requirements', '2.21Training Requirements', '2.22TestSystem Requirements']]}\n",
            "Metadata before chunk creation: {'filename': 'ProtonGlow_URS copy.pdf', 'file_path': '/content/drive/My Drive/lifesciences/training_documents/ProtonGlow_URS copy.pdf', 'file_type': 'pdf', 'processed': '2025-02-16T11:12:53.362706'}\n"
          ]
        },
        {
          "output_type": "stream",
          "name": "stderr",
          "text": [
            "ERROR:root:Error extracting PDF tables: No module named 'camelot'\n",
            "ERROR:root:Error extracting PDF tables: No module named 'camelot'\n"
          ]
        },
        {
          "output_type": "stream",
          "name": "stdout",
          "text": [
            "get_embeddings took 0.47 seconds to execute\n",
            "content:{'text': '3ProcessControl', 'lists': []}\n",
            "Metadata before chunk creation: {'filename': 'ProtonGlow_URS copy.pdf', 'file_path': '/content/drive/My Drive/lifesciences/training_documents/ProtonGlow_URS copy.pdf', 'file_type': 'pdf', 'processed': '2025-02-16T11:12:53.362706'}\n",
            "get_embeddings took 0.10 seconds to execute\n",
            "content:{'text': 'without manualintervention.', 'lists': []}\n",
            "Metadata before chunk creation: {'filename': 'ProtonGlow_URS copy.pdf', 'file_path': '/content/drive/My Drive/lifesciences/training_documents/ProtonGlow_URS copy.pdf', 'file_type': 'pdf', 'processed': '2025-02-16T11:12:53.362706'}\n"
          ]
        },
        {
          "output_type": "stream",
          "name": "stderr",
          "text": [
            "ERROR:root:Error extracting PDF tables: No module named 'camelot'\n",
            "ERROR:root:Error extracting PDF tables: No module named 'camelot'\n"
          ]
        },
        {
          "output_type": "stream",
          "name": "stdout",
          "text": [
            "get_embeddings took 0.11 seconds to execute\n",
            "content:{'text': 'ensure continuous oversight andtimely decision-making.', 'lists': []}\n",
            "Metadata before chunk creation: {'filename': 'ProtonGlow_URS copy.pdf', 'file_path': '/content/drive/My Drive/lifesciences/training_documents/ProtonGlow_URS copy.pdf', 'file_type': 'pdf', 'processed': '2025-02-16T11:12:53.362706'}\n",
            "get_embeddings took 0.11 seconds to execute\n",
            "content:{'text': 'ensure productquality.', 'lists': []}\n",
            "Metadata before chunk creation: {'filename': 'ProtonGlow_URS copy.pdf', 'file_path': '/content/drive/My Drive/lifesciences/training_documents/ProtonGlow_URS copy.pdf', 'file_type': 'pdf', 'processed': '2025-02-16T11:12:53.362706'}\n"
          ]
        },
        {
          "output_type": "stream",
          "name": "stderr",
          "text": [
            "ERROR:root:Error extracting PDF tables: No module named 'camelot'\n",
            "ERROR:root:Error extracting PDF tables: No module named 'camelot'\n"
          ]
        },
        {
          "output_type": "stream",
          "name": "stdout",
          "text": [
            "get_embeddings took 0.10 seconds to execute\n",
            "content:{'text': 'outcomes andaccommodate production changes.', 'lists': []}\n",
            "Metadata before chunk creation: {'filename': 'ProtonGlow_URS copy.pdf', 'file_path': '/content/drive/My Drive/lifesciences/training_documents/ProtonGlow_URS copy.pdf', 'file_type': 'pdf', 'processed': '2025-02-16T11:12:53.362706'}\n",
            "get_embeddings took 0.10 seconds to execute\n",
            "content:{'text': 'from specified process parametersfor promptcorrective action.', 'lists': []}\n",
            "Metadata before chunk creation: {'filename': 'ProtonGlow_URS copy.pdf', 'file_path': '/content/drive/My Drive/lifesciences/training_documents/ProtonGlow_URS copy.pdf', 'file_type': 'pdf', 'processed': '2025-02-16T11:12:53.362706'}\n"
          ]
        },
        {
          "output_type": "stream",
          "name": "stderr",
          "text": [
            "ERROR:root:Error extracting PDF tables: No module named 'camelot'\n",
            "ERROR:root:Error extracting PDF tables: No module named 'camelot'\n"
          ]
        },
        {
          "output_type": "stream",
          "name": "stdout",
          "text": [
            "get_embeddings took 0.13 seconds to execute\n",
            "content:{'text': 'facilitateprocess analysis.', 'lists': []}\n",
            "Metadata before chunk creation: {'filename': 'ProtonGlow_URS copy.pdf', 'file_path': '/content/drive/My Drive/lifesciences/training_documents/ProtonGlow_URS copy.pdf', 'file_type': 'pdf', 'processed': '2025-02-16T11:12:53.362706'}\n",
            "get_embeddings took 0.11 seconds to execute\n",
            "content:{'text': 'recommendimprovements to currentoperations.', 'lists': []}\n",
            "Metadata before chunk creation: {'filename': 'ProtonGlow_URS copy.pdf', 'file_path': '/content/drive/My Drive/lifesciences/training_documents/ProtonGlow_URS copy.pdf', 'file_type': 'pdf', 'processed': '2025-02-16T11:12:53.362706'}\n"
          ]
        },
        {
          "output_type": "stream",
          "name": "stderr",
          "text": [
            "ERROR:root:Error extracting PDF tables: No module named 'camelot'\n",
            "ERROR:root:Error extracting PDF tables: No module named 'camelot'\n"
          ]
        },
        {
          "output_type": "stream",
          "name": "stdout",
          "text": [
            "get_embeddings took 0.11 seconds to execute\n",
            "content:{'text': '4ProcessSafety', 'lists': []}\n",
            "Metadata before chunk creation: {'filename': 'ProtonGlow_URS copy.pdf', 'file_path': '/content/drive/My Drive/lifesciences/training_documents/ProtonGlow_URS copy.pdf', 'file_type': 'pdf', 'processed': '2025-02-16T11:12:53.362706'}\n",
            "get_embeddings took 0.10 seconds to execute\n",
            "content:{'text': 'ensuring they remain within predefined limitsthroughout the production cycle.', 'lists': []}\n",
            "Metadata before chunk creation: {'filename': 'ProtonGlow_URS copy.pdf', 'file_path': '/content/drive/My Drive/lifesciences/training_documents/ProtonGlow_URS copy.pdf', 'file_type': 'pdf', 'processed': '2025-02-16T11:12:53.362706'}\n"
          ]
        },
        {
          "output_type": "stream",
          "name": "stderr",
          "text": [
            "ERROR:root:Error extracting PDF tables: No module named 'camelot'\n",
            "ERROR:root:Error extracting PDF tables: No module named 'camelot'\n"
          ]
        },
        {
          "output_type": "stream",
          "name": "stdout",
          "text": [
            "get_embeddings took 0.14 seconds to execute\n",
            "content:{'text': 'and date ofchange, to ensure traceabilityand accountability.', 'lists': []}\n",
            "Metadata before chunk creation: {'filename': 'ProtonGlow_URS copy.pdf', 'file_path': '/content/drive/My Drive/lifesciences/training_documents/ProtonGlow_URS copy.pdf', 'file_type': 'pdf', 'processed': '2025-02-16T11:12:53.362706'}\n",
            "get_embeddings took 0.13 seconds to execute\n",
            "content:{'text': 'time data inputs to maintain optimalprocessing conditions.', 'lists': []}\n",
            "Metadata before chunk creation: {'filename': 'ProtonGlow_URS copy.pdf', 'file_path': '/content/drive/My Drive/lifesciences/training_documents/ProtonGlow_URS copy.pdf', 'file_type': 'pdf', 'processed': '2025-02-16T11:12:53.362706'}\n"
          ]
        },
        {
          "output_type": "stream",
          "name": "stderr",
          "text": [
            "ERROR:root:Error extracting PDF tables: No module named 'camelot'\n",
            "ERROR:root:Error extracting PDF tables: No module named 'camelot'\n"
          ]
        },
        {
          "output_type": "stream",
          "name": "stdout",
          "text": [
            "get_embeddings took 0.12 seconds to execute\n",
            "content:{'text': 'set process parameters,with visualand audiblesignals.', 'lists': []}\n",
            "Metadata before chunk creation: {'filename': 'ProtonGlow_URS copy.pdf', 'file_path': '/content/drive/My Drive/lifesciences/training_documents/ProtonGlow_URS copy.pdf', 'file_type': 'pdf', 'processed': '2025-02-16T11:12:53.362706'}\n",
            "get_embeddings took 0.12 seconds to execute\n",
            "content:{'text': 'automated adjustments fail to correctdeviations, with all actions recorded inthe audit\\ntrail.', 'lists': []}\n",
            "Metadata before chunk creation: {'filename': 'ProtonGlow_URS copy.pdf', 'file_path': '/content/drive/My Drive/lifesciences/training_documents/ProtonGlow_URS copy.pdf', 'file_type': 'pdf', 'processed': '2025-02-16T11:12:53.362706'}\n"
          ]
        },
        {
          "output_type": "stream",
          "name": "stderr",
          "text": [
            "ERROR:root:Error extracting PDF tables: No module named 'camelot'\n",
            "ERROR:root:Error extracting PDF tables: No module named 'camelot'\n"
          ]
        },
        {
          "output_type": "stream",
          "name": "stdout",
          "text": [
            "get_embeddings took 0.16 seconds to execute\n",
            "content:{'text': '5Machine Safety', 'lists': []}\n",
            "Metadata before chunk creation: {'filename': 'ProtonGlow_URS copy.pdf', 'file_path': '/content/drive/My Drive/lifesciences/training_documents/ProtonGlow_URS copy.pdf', 'file_type': 'pdf', 'processed': '2025-02-16T11:12:53.362706'}\n",
            "get_embeddings took 0.10 seconds to execute\n",
            "content:{'text': 'activatedboth automatically andmanually to safely terminate operations inthe eventof a\\ncriticalfailure.', 'lists': []}\n",
            "Metadata before chunk creation: {'filename': 'ProtonGlow_URS copy.pdf', 'file_path': '/content/drive/My Drive/lifesciences/training_documents/ProtonGlow_URS copy.pdf', 'file_type': 'pdf', 'processed': '2025-02-16T11:12:53.362706'}\n"
          ]
        },
        {
          "output_type": "stream",
          "name": "stderr",
          "text": [
            "ERROR:root:Error extracting PDF tables: No module named 'camelot'\n",
            "ERROR:root:Error extracting PDF tables: No module named 'camelot'\n"
          ]
        },
        {
          "output_type": "stream",
          "name": "stdout",
          "text": [
            "get_embeddings took 0.15 seconds to execute\n",
            "content:{'text': 'sequencesand ensure that equipment cannotbe started oroperated in a hazardous\\nmanner.', 'lists': []}\n",
            "Metadata before chunk creation: {'filename': 'ProtonGlow_URS copy.pdf', 'file_path': '/content/drive/My Drive/lifesciences/training_documents/ProtonGlow_URS copy.pdf', 'file_type': 'pdf', 'processed': '2025-02-16T11:12:53.362706'}\n",
            "get_embeddings took 0.13 seconds to execute\n",
            "content:{'text': 'orexposure during normaloperationand emergency scenarios.', 'lists': []}\n",
            "Metadata before chunk creation: {'filename': 'ProtonGlow_URS copy.pdf', 'file_path': '/content/drive/My Drive/lifesciences/training_documents/ProtonGlow_URS copy.pdf', 'file_type': 'pdf', 'processed': '2025-02-16T11:12:53.362706'}\n"
          ]
        },
        {
          "output_type": "stream",
          "name": "stderr",
          "text": [
            "ERROR:root:Error extracting PDF tables: No module named 'camelot'\n",
            "ERROR:root:Error extracting PDF tables: No module named 'camelot'\n"
          ]
        },
        {
          "output_type": "stream",
          "name": "stdout",
          "text": [
            "get_embeddings took 0.12 seconds to execute\n",
            "content:{'text': 'from exceedingsafe operational limits, thereby avoiding equipment damage or failure.', 'lists': []}\n",
            "Metadata before chunk creation: {'filename': 'ProtonGlow_URS copy.pdf', 'file_path': '/content/drive/My Drive/lifesciences/training_documents/ProtonGlow_URS copy.pdf', 'file_type': 'pdf', 'processed': '2025-02-16T11:12:53.362706'}\n",
            "get_embeddings took 0.13 seconds to execute\n",
            "content:{'text': 'machineoperations immediately when activated.', 'lists': []}\n",
            "Metadata before chunk creation: {'filename': 'ProtonGlow_URS copy.pdf', 'file_path': '/content/drive/My Drive/lifesciences/training_documents/ProtonGlow_URS copy.pdf', 'file_type': 'pdf', 'processed': '2025-02-16T11:12:53.362706'}\n"
          ]
        },
        {
          "output_type": "stream",
          "name": "stderr",
          "text": [
            "ERROR:root:Error extracting PDF tables: No module named 'camelot'\n",
            "ERROR:root:Error extracting PDF tables: No module named 'camelot'\n"
          ]
        },
        {
          "output_type": "stream",
          "name": "stdout",
          "text": [
            "get_embeddings took 0.10 seconds to execute\n",
            "content:{'text': 'areas during operation, ensuring usersafety.', 'lists': []}\n",
            "Metadata before chunk creation: {'filename': 'ProtonGlow_URS copy.pdf', 'file_path': '/content/drive/My Drive/lifesciences/training_documents/ProtonGlow_URS copy.pdf', 'file_type': 'pdf', 'processed': '2025-02-16T11:12:53.362706'}\n",
            "get_embeddings took 0.10 seconds to execute\n",
            "content:{'text': 'properlyshut off andcannot be restarted until maintenance or repairsare complete.', 'lists': []}\n",
            "Metadata before chunk creation: {'filename': 'ProtonGlow_URS copy.pdf', 'file_path': '/content/drive/My Drive/lifesciences/training_documents/ProtonGlow_URS copy.pdf', 'file_type': 'pdf', 'processed': '2025-02-16T11:12:53.362706'}\n"
          ]
        },
        {
          "output_type": "stream",
          "name": "stderr",
          "text": [
            "ERROR:root:Error extracting PDF tables: No module named 'camelot'\n",
            "ERROR:root:Error extracting PDF tables: No module named 'camelot'\n"
          ]
        },
        {
          "output_type": "stream",
          "name": "stdout",
          "text": [
            "get_embeddings took 0.15 seconds to execute\n",
            "content:{'text': 'conditions orpotential hazards, providingtimely warningsto preventaccidents.', 'lists': []}\n",
            "Metadata before chunk creation: {'filename': 'ProtonGlow_URS copy.pdf', 'file_path': '/content/drive/My Drive/lifesciences/training_documents/ProtonGlow_URS copy.pdf', 'file_type': 'pdf', 'processed': '2025-02-16T11:12:53.362706'}\n",
            "get_embeddings took 0.13 seconds to execute\n",
            "content:{'text': 'notifyoperators ofunsafe conditions promptly.', 'lists': []}\n",
            "Metadata before chunk creation: {'filename': 'ProtonGlow_URS copy.pdf', 'file_path': '/content/drive/My Drive/lifesciences/training_documents/ProtonGlow_URS copy.pdf', 'file_type': 'pdf', 'processed': '2025-02-16T11:12:53.362706'}\n"
          ]
        },
        {
          "output_type": "stream",
          "name": "stderr",
          "text": [
            "ERROR:root:Error extracting PDF tables: No module named 'camelot'\n",
            "ERROR:root:Error extracting PDF tables: No module named 'camelot'\n"
          ]
        },
        {
          "output_type": "stream",
          "name": "stdout",
          "text": [
            "get_embeddings took 0.13 seconds to execute\n",
            "content:{'text': 'arenot inplace or accesspanels are open,ensuring zerorisk ofaccidental injury.', 'lists': []}\n",
            "Metadata before chunk creation: {'filename': 'ProtonGlow_URS copy.pdf', 'file_path': '/content/drive/My Drive/lifesciences/training_documents/ProtonGlow_URS copy.pdf', 'file_type': 'pdf', 'processed': '2025-02-16T11:12:53.362706'}\n",
            "get_embeddings took 0.16 seconds to execute\n",
            "content:{'text': 'automatic safety mechanisms to preventleakage orexposure during standard operations\\nandemergencies.', 'lists': []}\n",
            "Metadata before chunk creation: {'filename': 'ProtonGlow_URS copy.pdf', 'file_path': '/content/drive/My Drive/lifesciences/training_documents/ProtonGlow_URS copy.pdf', 'file_type': 'pdf', 'processed': '2025-02-16T11:12:53.362706'}\n"
          ]
        },
        {
          "output_type": "stream",
          "name": "stderr",
          "text": [
            "ERROR:root:Error extracting PDF tables: No module named 'camelot'\n",
            "ERROR:root:Error extracting PDF tables: No module named 'camelot'\n"
          ]
        },
        {
          "output_type": "stream",
          "name": "stdout",
          "text": [
            "get_embeddings took 0.15 seconds to execute\n",
            "content:{'text': 'mechanismsthat maintain pressure withinsafe limits to preventequipment damage.', 'lists': []}\n",
            "Metadata before chunk creation: {'filename': 'ProtonGlow_URS copy.pdf', 'file_path': '/content/drive/My Drive/lifesciences/training_documents/ProtonGlow_URS copy.pdf', 'file_type': 'pdf', 'processed': '2025-02-16T11:12:53.362706'}\n",
            "get_embeddings took 0.15 seconds to execute\n",
            "content:{'text': 'immediately ceasing all operations when triggered to ensureuser safety.', 'lists': []}\n",
            "Metadata before chunk creation: {'filename': 'ProtonGlow_URS copy.pdf', 'file_path': '/content/drive/My Drive/lifesciences/training_documents/ProtonGlow_URS copy.pdf', 'file_type': 'pdf', 'processed': '2025-02-16T11:12:53.362706'}\n"
          ]
        },
        {
          "output_type": "stream",
          "name": "stderr",
          "text": [
            "ERROR:root:Error extracting PDF tables: No module named 'camelot'\n",
            "ERROR:root:Error extracting PDF tables: No module named 'camelot'\n"
          ]
        },
        {
          "output_type": "stream",
          "name": "stdout",
          "text": [
            "get_embeddings took 0.12 seconds to execute\n",
            "content:{'text': 'with automatic machine shutdown if guards areremoved orcompromised.', 'lists': []}\n",
            "Metadata before chunk creation: {'filename': 'ProtonGlow_URS copy.pdf', 'file_path': '/content/drive/My Drive/lifesciences/training_documents/ProtonGlow_URS copy.pdf', 'file_type': 'pdf', 'processed': '2025-02-16T11:12:53.362706'}\n",
            "get_embeddings took 0.15 seconds to execute\n",
            "content:{'text': 'remainsinoperable during maintenance, successfully preventing accidental restart.', 'lists': []}\n",
            "Metadata before chunk creation: {'filename': 'ProtonGlow_URS copy.pdf', 'file_path': '/content/drive/My Drive/lifesciences/training_documents/ProtonGlow_URS copy.pdf', 'file_type': 'pdf', 'processed': '2025-02-16T11:12:53.362706'}\n"
          ]
        },
        {
          "output_type": "stream",
          "name": "stderr",
          "text": [
            "ERROR:root:Error extracting PDF tables: No module named 'camelot'\n",
            "ERROR:root:Error extracting PDF tables: No module named 'camelot'\n"
          ]
        },
        {
          "output_type": "stream",
          "name": "stdout",
          "text": [
            "get_embeddings took 0.12 seconds to execute\n",
            "content:{'text': 'hazardousareas during operation,ensuring user safety through physical separation.', 'lists': []}\n",
            "Metadata before chunk creation: {'filename': 'ProtonGlow_URS copy.pdf', 'file_path': '/content/drive/My Drive/lifesciences/training_documents/ProtonGlow_URS copy.pdf', 'file_type': 'pdf', 'processed': '2025-02-16T11:12:53.362706'}\n",
            "get_embeddings took 0.13 seconds to execute\n",
            "content:{'text': 'operateor maintain theequipment, reducing the risk ofunauthorized use.', 'lists': []}\n",
            "Metadata before chunk creation: {'filename': 'ProtonGlow_URS copy.pdf', 'file_path': '/content/drive/My Drive/lifesciences/training_documents/ProtonGlow_URS copy.pdf', 'file_type': 'pdf', 'processed': '2025-02-16T11:12:53.362706'}\n"
          ]
        },
        {
          "output_type": "stream",
          "name": "stderr",
          "text": [
            "ERROR:root:Error extracting PDF tables: No module named 'camelot'\n",
            "ERROR:root:Error extracting PDF tables: No module named 'camelot'\n"
          ]
        },
        {
          "output_type": "stream",
          "name": "stdout",
          "text": [
            "get_embeddings took 0.14 seconds to execute\n",
            "content:{'text': 'providewarnings andinstructions forsafe operation.', 'lists': []}\n",
            "Metadata before chunk creation: {'filename': 'ProtonGlow_URS copy.pdf', 'file_path': '/content/drive/My Drive/lifesciences/training_documents/ProtonGlow_URS copy.pdf', 'file_type': 'pdf', 'processed': '2025-02-16T11:12:53.362706'}\n",
            "get_embeddings took 0.12 seconds to execute\n",
            "content:{'text': 'equipment,enablingimmediate shutdown in case ofemergency.', 'lists': []}\n",
            "Metadata before chunk creation: {'filename': 'ProtonGlow_URS copy.pdf', 'file_path': '/content/drive/My Drive/lifesciences/training_documents/ProtonGlow_URS copy.pdf', 'file_type': 'pdf', 'processed': '2025-02-16T11:12:53.362706'}\n"
          ]
        },
        {
          "output_type": "stream",
          "name": "stderr",
          "text": [
            "ERROR:root:Error extracting PDF tables: No module named 'camelot'\n",
            "ERROR:root:Error extracting PDF tables: No module named 'camelot'\n",
            "ERROR:root:Error extracting PDF tables: No module named 'camelot'\n"
          ]
        },
        {
          "output_type": "stream",
          "name": "stdout",
          "text": [
            "get_embeddings took 0.14 seconds to execute\n",
            "content:{'text': '6Vessels', 'lists': []}\n",
            "Metadata before chunk creation: {'filename': 'ProtonGlow_URS copy.pdf', 'file_path': '/content/drive/My Drive/lifesciences/training_documents/ProtonGlow_URS copy.pdf', 'file_type': 'pdf', 'processed': '2025-02-16T11:12:53.362706'}\n",
            "get_embeddings took 0.08 seconds to execute\n",
            "content:{'text': 'productsand cleaning agentsused during production.', 'lists': []}\n",
            "Metadata before chunk creation: {'filename': 'ProtonGlow_URS copy.pdf', 'file_path': '/content/drive/My Drive/lifesciences/training_documents/ProtonGlow_URS copy.pdf', 'file_type': 'pdf', 'processed': '2025-02-16T11:12:53.362706'}\n",
            "get_embeddings took 0.10 seconds to execute\n",
            "content:{'text': 'than 0.5 micrometers to ensurea smoothsurface that promotes cleanability andreduces\\ncontamination risk.', 'lists': []}\n",
            "Metadata before chunk creation: {'filename': 'ProtonGlow_URS copy.pdf', 'file_path': '/content/drive/My Drive/lifesciences/training_documents/ProtonGlow_URS copy.pdf', 'file_type': 'pdf', 'processed': '2025-02-16T11:12:53.362706'}\n"
          ]
        },
        {
          "output_type": "stream",
          "name": "stderr",
          "text": [
            "ERROR:root:Error extracting PDF tables: No module named 'camelot'\n",
            "ERROR:root:Error extracting PDF tables: No module named 'camelot'\n"
          ]
        },
        {
          "output_type": "stream",
          "name": "stdout",
          "text": [
            "get_embeddings took 0.17 seconds to execute\n",
            "content:{'text': 'removed without residue or pooling.', 'lists': []}\n",
            "Metadata before chunk creation: {'filename': 'ProtonGlow_URS copy.pdf', 'file_path': '/content/drive/My Drive/lifesciences/training_documents/ProtonGlow_URS copy.pdf', 'file_type': 'pdf', 'processed': '2025-02-16T11:12:53.362706'}\n",
            "get_embeddings took 0.15 seconds to execute\n",
            "content:{'text': 'cleaningprocesses without the risk ofmicrobial growthor contamination.', 'lists': []}\n",
            "Metadata before chunk creation: {'filename': 'ProtonGlow_URS copy.pdf', 'file_path': '/content/drive/My Drive/lifesciences/training_documents/ProtonGlow_URS copy.pdf', 'file_type': 'pdf', 'processed': '2025-02-16T11:12:53.362706'}\n"
          ]
        },
        {
          "output_type": "stream",
          "name": "stderr",
          "text": [
            "ERROR:root:Error extracting PDF tables: No module named 'camelot'\n"
          ]
        },
        {
          "output_type": "stream",
          "name": "stdout",
          "text": [
            "get_embeddings took 0.20 seconds to execute\n",
            "content:{'text': '', 'lists': [['6.10Cleaning and Maintenance', '6.11Operational Requirements', '6.12Regulatoryand Compliance Standards', '6.13Documentation and Record-Keeping']]}\n",
            "Metadata before chunk creation: {'filename': 'ProtonGlow_URS copy.pdf', 'file_path': '/content/drive/My Drive/lifesciences/training_documents/ProtonGlow_URS copy.pdf', 'file_type': 'pdf', 'processed': '2025-02-16T11:12:53.362706'}\n"
          ]
        },
        {
          "output_type": "stream",
          "name": "stderr",
          "text": [
            "ERROR:root:Error extracting PDF tables: No module named 'camelot'\n"
          ]
        },
        {
          "output_type": "stream",
          "name": "stdout",
          "text": [
            "get_embeddings took 0.28 seconds to execute\n",
            "content:{'text': '', 'lists': [['6.14Training Requirements', '6.15Vendor andWarrantySpecifications', '6.16Surface Finish Requirements', '6.17StructuralIntegrity']]}\n",
            "Metadata before chunk creation: {'filename': 'ProtonGlow_URS copy.pdf', 'file_path': '/content/drive/My Drive/lifesciences/training_documents/ProtonGlow_URS copy.pdf', 'file_type': 'pdf', 'processed': '2025-02-16T11:12:53.362706'}\n"
          ]
        },
        {
          "output_type": "stream",
          "name": "stderr",
          "text": [
            "ERROR:root:Error extracting PDF tables: No module named 'camelot'\n"
          ]
        },
        {
          "output_type": "stream",
          "name": "stdout",
          "text": [
            "get_embeddings took 0.32 seconds to execute\n",
            "content:{'text': 'Bejoy is a very good Boy', 'lists': []}\n",
            "Metadata before chunk creation: {'filename': 'Bejoy is a very good Boy.docx', 'file_path': '/content/drive/My Drive/lifesciences/training_documents/Bejoy is a very good Boy.docx', 'file_type': 'docx', 'processed': '2025-02-16T11:13:01.898132'}\n",
            "get_embeddings took 0.15 seconds to execute\n",
            "content:{'text': 'Bejoy is a smart boy', 'lists': []}\n",
            "Metadata before chunk creation: {'filename': 'Bejoy is a smart boy.docx', 'file_path': '/content/drive/My Drive/lifesciences/training_documents/Bejoy is a smart boy.docx', 'file_type': 'docx', 'processed': '2025-02-16T11:13:02.110635'}\n",
            "get_embeddings took 0.10 seconds to execute\n",
            "INFO:     95.223.75.30:0 - \"GET /train HTTP/1.1\" 200 OK\n",
            "get_embeddings took 0.08 seconds to execute\n",
            "query took 0.09 seconds to execute\n",
            "INFO:     95.223.75.30:0 - \"POST /query HTTP/1.1\" 200 OK\n"
          ]
        }
      ],
      "source": [
        "import os\n",
        "from typing import List, Dict, Union, Optional\n",
        "from docx import Document\n",
        "from pypdf import PdfReader\n",
        "import numpy as np\n",
        "import faiss\n",
        "from transformers import AutoTokenizer, AutoModel\n",
        "import torch\n",
        "import pickle\n",
        "from pathlib import Path\n",
        "import json\n",
        "from datetime import datetime\n",
        "import uuid\n",
        "import logging\n",
        "import time\n",
        "from tqdm import tqdm\n",
        "import uvicorn\n",
        "from pyngrok import ngrok\n",
        "from pydantic import BaseModel\n",
        "from fastapi import FastAPI\n",
        "from functools import wraps\n",
        "import nest_asyncio\n",
        "from google.colab import userdata, drive\n",
        "import re\n",
        "from contextlib import asynccontextmanager\n",
        "import shutil\n",
        "\n",
        "nest_asyncio.apply()\n",
        "\n",
        "def timer_decorator(func):\n",
        "    @wraps(func)\n",
        "    def wrapper(*args, **kwargs):\n",
        "        start_time = time.time()\n",
        "        result = func(*args, **kwargs)\n",
        "        end_time = time.time()\n",
        "        execution_time = end_time - start_time\n",
        "        print(f\"{func.__name__} took {execution_time:.2f} seconds to execute\")\n",
        "        logging.info(f\"{func.__name__} took {execution_time:.2f} seconds to execute\")\n",
        "        return result\n",
        "    return wrapper\n",
        "\n",
        "class Section:\n",
        "    def __init__(self, text: str, heading: Optional[str] = None, level: int = 0):\n",
        "        self.text = text\n",
        "        self.heading = heading\n",
        "        self.level = level\n",
        "        self.content = {\"text\": text, \"lists\": []}\n",
        "\n",
        "    def get(self, key, default=None):\n",
        "        return getattr(self, key, default)\n",
        "\n",
        "class DocumentManager:\n",
        "    \"\"\"Enhanced DocumentManager with improved section processing and response formatting\"\"\"\n",
        "\n",
        "    @staticmethod\n",
        "    def mount_drive() -> str:\n",
        "        \"\"\"Mount Google Drive and create necessary base directory\"\"\"\n",
        "        try:\n",
        "            # Don't force remount if already mounted\n",
        "            if not os.path.exists('/content/drive'):\n",
        "                drive.mount('/content/drive')\n",
        "\n",
        "            base_path = '/content/drive/My Drive/lifesciences'\n",
        "            os.makedirs(base_path, exist_ok=True)\n",
        "            return base_path\n",
        "        except Exception as e:\n",
        "            logging.error(f\"Failed to mount drive: {str(e)}\")\n",
        "            raise\n",
        "\n",
        "    def __init__(self, model_name: str = \"sentence-transformers/all-mpnet-base-v2\", dimension: int = 768):\n",
        "        self.base_path = self.mount_drive()\n",
        "        self.setup_paths()\n",
        "        self.setup_logging()\n",
        "        self.setup_model(model_name)\n",
        "        self.dimension = dimension\n",
        "        self.index = None\n",
        "        self.chunks = []\n",
        "        self.initialize_index()\n",
        "        self.section_pattern = re.compile(r'^(?:Section|Chapter|\\d+\\.|\\d+\\.\\d+)\\s+', re.IGNORECASE)\n",
        "        print(f\"DocumentManager initialized with base path: {self.base_path}\")\n",
        "\n",
        "    def setup_paths(self):\n",
        "        \"\"\"Setup and create necessary directories in Google Drive\"\"\"\n",
        "        paths = {\n",
        "            'models': 'models',\n",
        "            'index': 'indexes',\n",
        "            'extracted_data': 'extracted_data',\n",
        "            'embeddings': 'embeddings',\n",
        "            'training_docs': 'training_documents',\n",
        "            'logs': 'logs'\n",
        "        }\n",
        "\n",
        "        for key, path in paths.items():\n",
        "            full_path = os.path.join(self.base_path, path)\n",
        "            setattr(self, f\"{key}_path\", full_path)\n",
        "            os.makedirs(full_path, exist_ok=True)\n",
        "            logging.info(f\"Created directory: {full_path}\")\n",
        "\n",
        "    def setup_logging(self):\n",
        "        \"\"\"Setup logging configuration\"\"\"\n",
        "        log_file = os.path.join(self.logs_path, 'processing.log')\n",
        "        logging.basicConfig(\n",
        "            filename=log_file,\n",
        "            level=logging.INFO,\n",
        "            format='%(asctime)s - %(levelname)s - %(message)s'\n",
        "        )\n",
        "        logging.info(\"Logging initialized\")\n",
        "\n",
        "    @timer_decorator\n",
        "    def setup_model(self, model_name: str):\n",
        "        \"\"\"Initialize the transformer model and tokenizer\"\"\"\n",
        "        try:\n",
        "            self.tokenizer = AutoTokenizer.from_pretrained(model_name)\n",
        "            self.model = AutoModel.from_pretrained(model_name)\n",
        "            self.device = torch.device(\"cuda\" if torch.cuda.is_available() else \"cpu\")\n",
        "            self.model.to(self.device)\n",
        "            logging.info(f\"Model loaded successfully on {self.device}\")\n",
        "        except Exception as e:\n",
        "            logging.error(f\"Error initializing model: {e}\")\n",
        "            raise\n",
        "\n",
        "    def initialize_index(self):\n",
        "        \"\"\"Initialize or load existing FAISS index\"\"\"\n",
        "        index_file = os.path.join(self.index_path, 'index.faiss')\n",
        "        chunks_file = os.path.join(self.index_path, 'chunks.pkl')\n",
        "\n",
        "        if os.path.exists(index_file) and os.path.exists(chunks_file):\n",
        "            self.index = faiss.read_index(index_file)\n",
        "            with open(chunks_file, 'rb') as f:\n",
        "                self.chunks = pickle.load(f)\n",
        "            logging.info(f\"Loaded existing index with {len(self.chunks)} chunks\")\n",
        "        else:\n",
        "            self.index = faiss.IndexFlatL2(self.dimension)\n",
        "            self.chunks = []\n",
        "            logging.info(\"Created new FAISS index\")\n",
        "\n",
        "    def extract_docx_sections(self, file_path: str) -> List[Dict]:\n",
        "        \"\"\"Extract sections from DOCX with null style handling\"\"\"\n",
        "        try:\n",
        "            doc = Document(file_path)\n",
        "            sections = []\n",
        "            current_section = None\n",
        "            current_text = []\n",
        "\n",
        "            logging.info(f\"Starting DOCX extraction for {file_path}\")\n",
        "            logging.info(f\"Total paragraphs: {len(doc.paragraphs)}\")\n",
        "\n",
        "            for i, paragraph in enumerate(doc.paragraphs):\n",
        "                text = paragraph.text.strip()\n",
        "\n",
        "                if not text:\n",
        "                    continue\n",
        "\n",
        "                # Safely get style information\n",
        "                style_name = \"default\"\n",
        "                try:\n",
        "                    if paragraph.style and paragraph.style.name:\n",
        "                        style_name = paragraph.style.name\n",
        "                except AttributeError:\n",
        "                    pass\n",
        "\n",
        "                logging.info(f\"Paragraph {i}: Style='{style_name}', Text='{text[:50]}...'\")\n",
        "\n",
        "                # Enhanced heading detection that doesn't rely on style\n",
        "                is_heading = any([\n",
        "                    style_name.startswith('Heading'),\n",
        "                    len(text) <= 100 and text.isupper(),\n",
        "                    bool(re.match(r'^[\\d\\.]+\\s+[A-Z]', text)),\n",
        "                    len(text.split()) <= 7 and text[0].isupper(),\n",
        "                    bool(re.match(r'^[A-Z][A-Z\\s]{4,}$', text))\n",
        "                ])\n",
        "\n",
        "                if is_heading:\n",
        "                    # Save previous section if it exists\n",
        "                    if current_text:\n",
        "                        processed_content = self.process_lists('\\n'.join(current_text))\n",
        "                        if processed_content[\"text\"] or processed_content[\"lists\"]:\n",
        "                            sections.append({\n",
        "                                \"heading\": current_section,\n",
        "                                \"content\": processed_content\n",
        "                            })\n",
        "                            logging.info(f\"Added section with heading: {current_section}\")\n",
        "\n",
        "                    current_section = text\n",
        "                    current_text = []\n",
        "                else:\n",
        "                    current_text.append(text)\n",
        "\n",
        "            # Handle final section\n",
        "            if current_text:\n",
        "                processed_content = self.process_lists('\\n'.join(current_text))\n",
        "                if processed_content[\"text\"] or processed_content[\"lists\"]:\n",
        "                    sections.append({\n",
        "                        \"heading\": current_section,\n",
        "                        \"content\": processed_content\n",
        "                    })\n",
        "                    logging.info(f\"Added final section with heading: {current_section}\")\n",
        "\n",
        "            # Fallback for documents with no clear sections\n",
        "            if not sections:\n",
        "                all_text = []\n",
        "                for para in doc.paragraphs:\n",
        "                    text = para.text.strip()\n",
        "                    if text:\n",
        "                        all_text.append(text)\n",
        "\n",
        "                if all_text:\n",
        "                    processed_content = self.process_lists('\\n'.join(all_text))\n",
        "                    sections.append({\n",
        "                        \"heading\": \"Document Content\",\n",
        "                        \"content\": processed_content\n",
        "                    })\n",
        "                    logging.info(\"Created single section with all content\")\n",
        "\n",
        "            logging.info(f\"Extracted {len(sections)} sections from DOCX\")\n",
        "\n",
        "            # Debug output of sections\n",
        "            for i, section in enumerate(sections):\n",
        "                logging.info(f\"Section {i + 1}:\")\n",
        "                logging.info(f\"  Heading: {section['heading']}\")\n",
        "                logging.info(f\"  Content length: {len(section['content'].get('text', ''))}\")\n",
        "                logging.info(f\"  Lists: {len(section['content'].get('lists', []))}\")\n",
        "\n",
        "            return sections\n",
        "\n",
        "        except Exception as e:\n",
        "            logging.error(f\"Error in extract_docx_sections: {str(e)}\")\n",
        "            logging.exception(\"Full traceback:\")\n",
        "\n",
        "            # Attempt recovery by processing the entire document as one section\n",
        "            try:\n",
        "                all_text = []\n",
        "                for para in doc.paragraphs:\n",
        "                    text = para.text.strip()\n",
        "                    if text:\n",
        "                        all_text.append(text)\n",
        "\n",
        "                if all_text:\n",
        "                    processed_content = self.process_lists('\\n'.join(all_text))\n",
        "                    return [{\n",
        "                        \"heading\": \"Document Content\",\n",
        "                        \"content\": processed_content\n",
        "                    }]\n",
        "            except Exception as recovery_error:\n",
        "                logging.error(f\"Recovery attempt failed: {str(recovery_error)}\")\n",
        "\n",
        "            return []\n",
        "\n",
        "    def is_heading(self, text: str) -> bool:\n",
        "        \"\"\"Enhanced heading detection with more patterns\"\"\"\n",
        "        return any([\n",
        "            bool(self.section_pattern.match(text)),\n",
        "            text.isupper() and len(text.split()) <= 7,\n",
        "            bool(re.match(r'^[\\d\\.]+\\s+[A-Z]', text)),  # Numbered sections\n",
        "            bool(re.match(r'^[A-Z][a-z]+\\s+\\d+', text)),  # \"Section 1\", \"Chapter 2\" etc.\n",
        "            bool(re.match(r'^[A-Z][A-Z\\s]{4,}$', text)),  # All caps words\n",
        "            len(text.split()) <= 7 and text[0].isupper()  # Short capitalized phrases\n",
        "        ])\n",
        "\n",
        "    def extract_pdf_sections(self, file_path: str) -> List[Dict]:\n",
        "        \"\"\"Extract sections from PDF file and return in consistent format with DOCX extraction\"\"\"\n",
        "        try:\n",
        "            reader = PdfReader(file_path)\n",
        "            sections = []\n",
        "            current_section = None\n",
        "            current_text = []\n",
        "\n",
        "            for page in reader.pages:\n",
        "                text = page.extract_text()\n",
        "                if not text:\n",
        "                    continue\n",
        "\n",
        "                lines = text.split('\\n')\n",
        "                for line in lines:\n",
        "                    line = line.strip()\n",
        "                    if not line:\n",
        "                        continue\n",
        "\n",
        "                    if self.is_heading(line):\n",
        "                        # Save previous section if exists\n",
        "                        if current_text:\n",
        "                            sections.append({\n",
        "                                \"heading\": current_section,\n",
        "                                \"content\": self.process_lists('\\n'.join(current_text))\n",
        "                            })\n",
        "                            current_text = []\n",
        "                        current_section = line\n",
        "                    else:\n",
        "                        current_text.append(line)\n",
        "\n",
        "            # Add the last section\n",
        "            if current_text:\n",
        "                sections.append({\n",
        "                    \"heading\": current_section,\n",
        "                    \"content\": self.process_lists('\\n'.join(current_text))\n",
        "                })\n",
        "\n",
        "            # If no sections were found, create one with all content\n",
        "            if not sections and current_text:\n",
        "                sections.append({\n",
        "                    \"heading\": None,\n",
        "                    \"content\": self.process_lists('\\n'.join(current_text))\n",
        "                })\n",
        "\n",
        "            logging.info(f\"Extracted {len(sections)} sections from PDF: {file_path}\")\n",
        "            return sections\n",
        "\n",
        "        except Exception as e:\n",
        "            logging.error(f\"Error extracting PDF sections from {file_path}: {str(e)}\")\n",
        "            return []\n",
        "\n",
        "\n",
        "    def extract_docx_tables(self, file_path: str) -> List[Dict]:\n",
        "        \"\"\"Extract tables from DOCX file.\"\"\"\n",
        "        try:\n",
        "            doc = Document(file_path)\n",
        "            tables_data = []\n",
        "\n",
        "            for table in doc.tables:\n",
        "                table_list = []\n",
        "                for row in table.rows:\n",
        "                    row_list = []\n",
        "                    for cell in row.cells:\n",
        "                        row_list.append(cell.text)\n",
        "                    table_list.append(row_list)\n",
        "                tables_data.append(table_list)\n",
        "            return tables_data\n",
        "        except Exception as e:\n",
        "            logging.error(f\"Error extracting DOCX tables: {e}\")\n",
        "            return []\n",
        "\n",
        "    def extract_pdf_tables(self, file_path: str) -> List[Dict]:\n",
        "        \"\"\"Extract tables from PDF using camelot.\"\"\"\n",
        "        try:\n",
        "            import camelot  # Import camelot only when needed\n",
        "            tables = camelot.read_pdf(file_path)\n",
        "            tables_data = []\n",
        "            for table in tables:\n",
        "                df = table.df\n",
        "                table_list = df.values.tolist()  # Convert DataFrame to list\n",
        "                tables_data.append(table_list)\n",
        "            return tables_data\n",
        "        except Exception as e:\n",
        "            logging.error(f\"Error extracting PDF tables: {e}\")\n",
        "            return []\n",
        "\n",
        "    def process_lists(self, text: str) -> Dict[str, Union[str, List[str]]]:\n",
        "        \"\"\"Process text to identify and structure lists\"\"\"\n",
        "        lines = text.split('\\n')\n",
        "        processed_text = []\n",
        "        current_list = []\n",
        "        in_list = False\n",
        "\n",
        "        list_markers = ['•', '-', '·', '*', '○', '▪', '✓']\n",
        "        number_pattern = re.compile(r'^\\d+[\\.\\)]')\n",
        "\n",
        "        result = {\n",
        "            \"text\": \"\",\n",
        "            \"lists\": []\n",
        "        }\n",
        "\n",
        "        for line in lines:\n",
        "            line = line.strip()\n",
        "            if not line:\n",
        "                continue\n",
        "\n",
        "            is_list_item = (\n",
        "                any(line.startswith(marker) for marker in list_markers) or\n",
        "                number_pattern.match(line)\n",
        "            )\n",
        "\n",
        "            if is_list_item:\n",
        "                if not in_list:\n",
        "                    in_list = True\n",
        "                    if processed_text:\n",
        "                        result[\"text\"] = '\\n'.join(processed_text)\n",
        "                current_list.append(line)\n",
        "            else:\n",
        "                if in_list:\n",
        "                    in_list = False\n",
        "                    if current_list:\n",
        "                        result[\"lists\"].append(current_list)\n",
        "                        current_list = []\n",
        "                processed_text.append(line)\n",
        "\n",
        "        if in_list and current_list:\n",
        "            result[\"lists\"].append(current_list)\n",
        "        if processed_text:\n",
        "            result[\"text\"] = '\\n'.join(processed_text)\n",
        "\n",
        "        return result\n",
        "\n",
        "    @timer_decorator\n",
        "    def get_embeddings(self, text: str) -> np.ndarray:\n",
        "        \"\"\"Generate embeddings for given text\"\"\"\n",
        "        try:\n",
        "            inputs = self.tokenizer(text, return_tensors='pt', truncation=True, padding=True, max_length=512)\n",
        "            inputs = inputs.to(self.device)\n",
        "\n",
        "            with torch.no_grad():\n",
        "                outputs = self.model(**inputs)\n",
        "                embedding = outputs.last_hidden_state.mean(dim=1).cpu().numpy()\n",
        "\n",
        "            return embedding\n",
        "        except Exception as e:\n",
        "            logging.error(f\"Error generating embedding: {e}\")\n",
        "            return None\n",
        "\n",
        "    def clear_directories(self):\n",
        "        \"\"\"Clears embeddings, indexes, and extracted data directories.\"\"\"\n",
        "        dirs_to_clear = [\n",
        "            self.embeddings_path,\n",
        "            self.index_path,\n",
        "            self.extracted_data_path\n",
        "        ]\n",
        "        for dir_path in dirs_to_clear:\n",
        "            try:\n",
        "                if os.path.exists(dir_path):\n",
        "                    shutil.rmtree(dir_path)  # Remove the directory and its contents\n",
        "                    os.makedirs(dir_path)    # Recreate the directory\n",
        "                    logging.info(f\"Cleared directory: {dir_path}\")\n",
        "                else:\n",
        "                    os.makedirs(dir_path)\n",
        "                    logging.info(f\"Directory created: {dir_path}\")\n",
        "\n",
        "            except Exception as e:\n",
        "                logging.error(f\"Error clearing directory {dir_path}: {e}\")\n",
        "                raise\n",
        "    def process_document(self, file_path: str) -> Optional[str]:\n",
        "        try:\n",
        "            if not os.path.exists(file_path):\n",
        "                logging.error(f\"File not found: {file_path}\")\n",
        "                return None\n",
        "\n",
        "            metadata = {  # Initialize metadata *before* processing sections\n",
        "                \"filename\": os.path.basename(file_path),\n",
        "                \"file_path\": file_path,\n",
        "                \"file_type\": file_path.split('.')[-1].lower(),\n",
        "                \"processed\": datetime.now().isoformat()\n",
        "            }\n",
        "\n",
        "            # Extract sections based on file type\n",
        "            sections = []\n",
        "            if file_path.endswith('.docx'):\n",
        "                sections = self.extract_docx_sections(file_path)\n",
        "            elif file_path.endswith('.pdf'):\n",
        "                sections = self.extract_pdf_sections(file_path)\n",
        "            else:\n",
        "                logging.error(f\"Unsupported file type: {file_path}\")\n",
        "                return None\n",
        "\n",
        "            if not sections:\n",
        "                logging.warning(f\"No sections extracted from {file_path}\")\n",
        "                return None\n",
        "\n",
        "            # Process each section\n",
        "            for section_data in sections:\n",
        "                # Handle both dictionary and Section object formats\n",
        "                if isinstance(section_data, dict):\n",
        "                    heading = section_data.get(\"heading\")\n",
        "                    content = section_data.get(\"content\", {})\n",
        "                else:\n",
        "                    heading = section_data.heading\n",
        "                    content = section_data.content\n",
        "\n",
        "                print(f\"content:{content}\")\n",
        "               # Ensure metadata is a dictionary (crucial!)\n",
        "                if not isinstance(metadata, dict):\n",
        "                    metadata = {}  # Initialize to an empty dict if it's not one\n",
        "\n",
        "                logging.debug(f\"Metadata before chunk creation: {metadata}\")\n",
        "                print(f\"Metadata before chunk creation: {metadata}\")\n",
        "                # Process main text\n",
        "                main_text = content.get(\"text\", \"\")\n",
        "                if main_text:\n",
        "                    embedding = self.get_embeddings(main_text)\n",
        "                    if embedding is not None:\n",
        "                        self.index.add(embedding)\n",
        "                        chunk = {\n",
        "                            \"text\": main_text,\n",
        "                            \"metadata\": metadata.copy(),  # Copy!\n",
        "                            \"heading\": heading,\n",
        "                            \"type\": \"text\"\n",
        "                        }\n",
        "                        self.chunks.append(chunk)\n",
        "                        logging.debug(f\"Added text chunk: {chunk}\")  # Log the created chunk\n",
        "\n",
        "                # Process lists (same logic as for main text)\n",
        "                lists = content.get(\"lists\", [])\n",
        "                for lst in lists:\n",
        "                    list_text = '\\n'.join(lst) if isinstance(lst, list) else lst\n",
        "                    embedding = self.get_embeddings(list_text)\n",
        "                    if embedding is not None: # Simplified if check\n",
        "                        self.index.add(embedding)\n",
        "                        chunk = {\n",
        "                            \"text\": list_text,\n",
        "                            \"metadata\": metadata.copy(),  # Copy!\n",
        "                            \"heading\": heading,\n",
        "                            \"type\": \"list\"\n",
        "                        }\n",
        "                        self.chunks.append(chunk)\n",
        "                        logging.debug(f\"Added list chunk: {chunk}\") # Log the created chunk\n",
        "\n",
        "\n",
        "\n",
        "                # Extract and process tables\n",
        "                tables = []\n",
        "                if file_path.endswith('.docx'):\n",
        "                    tables = self.extract_docx_tables(file_path)\n",
        "                elif file_path.endswith('.pdf'):\n",
        "                    tables = self.extract_pdf_tables(file_path)\n",
        "\n",
        "                for table in tables:\n",
        "                    table_text = \"\\n\".join([\"|\".join(row) for row in table]) # Simple string representation\n",
        "                    embedding = self.get_embeddings(table_text)\n",
        "                    if embedding is not None:\n",
        "                        self.index.add(embedding)\n",
        "                        chunk = {\n",
        "                            \"text\": table_text,\n",
        "                            \"metadata\": metadata.copy(),\n",
        "                            \"heading\": None,  # Tables might not have headings\n",
        "                            \"type\": \"table\"\n",
        "                        }\n",
        "                        self.chunks.append(chunk)\n",
        "                        logging.debug(f\"Added table chunk: {chunk}\")\n",
        "\n",
        "            self.save_index_state()\n",
        "            logging.info(f\"Successfully processed document: {file_path}\")\n",
        "            return file_path\n",
        "\n",
        "        except Exception as e:\n",
        "            logging.exception(f\"Error processing document {file_path}: {str(e)}\")\n",
        "            return None\n",
        "\n",
        "    def save_index_state(self):\n",
        "        \"\"\"Save current index and chunks to disk\"\"\"\n",
        "        index_file = os.path.join(self.index_path, 'index.faiss')\n",
        "        chunks_file = os.path.join(self.index_path, 'chunks.pkl')\n",
        "\n",
        "        faiss.write_index(self.index, index_file)\n",
        "        with open(chunks_file, 'wb') as f:\n",
        "            pickle.dump(self.chunks, f)\n",
        "        logging.info(f\"Saved index with {len(self.chunks)} chunks\")\n",
        "\n",
        "    @timer_decorator\n",
        "    def query(self, query_text: str, top_k: int = 5) -> List[Dict[str, Union[str, float]]]:\n",
        "        \"\"\"Enhanced search with better response formatting\"\"\"\n",
        "        try:\n",
        "            query_embedding = self.get_embeddings(query_text)\n",
        "            if query_embedding is not None:\n",
        "                query_embedding = query_embedding.astype(np.float32)\n",
        "                distances, indices = self.index.search(query_embedding, top_k)\n",
        "\n",
        "                results = []\n",
        "                for idx, dist in zip(indices[0], distances[0]):\n",
        "                    if idx < len(self.chunks):\n",
        "                        chunk = self.chunks[idx]\n",
        "                        # CRITICAL: Check and log the chunk *before* accessing metadata\n",
        "                        logging.debug(f\"Chunk before metadata access: {chunk}\")\n",
        "                        if \"metadata\" not in chunk:  # Check if metadata exists!\n",
        "                            logging.error(f\"Chunk is missing metadata: {chunk}\")\n",
        "                            chunk[\"metadata\"] = []\n",
        "                            # Handle the error gracefully (e.g., skip this chunk)\n",
        "                            #continue  # Skip to the next chunk\n",
        "\n",
        "                        result = { # Now it's safe to access metadata\n",
        "                            \"content\": chunk[\"text\"],\n",
        "                            \"distance\": float(dist),\n",
        "                            \"metadata\": chunk[\"metadata\"],\n",
        "                            \"type\": chunk.get(\"type\", \"text\"),\n",
        "                            \"heading\": chunk.get(\"heading\", \"\")\n",
        "                        }\n",
        "                        results.append(result)\n",
        "\n",
        "\n",
        "                # Format response based on content type\n",
        "                formatted_response = self.format_response(results)\n",
        "                return [{\"generated_text\": formatted_response}]\n",
        "\n",
        "            return [{\"generated_text\": \"No results found\"}]\n",
        "        except Exception as e:\n",
        "            logging.error(f\"Error performing query: {e}\")\n",
        "            return [{\"generated_text\": \"Error processing query\"}]\n",
        "\n",
        "    def format_response(self, results: List[Dict]) -> str:\n",
        "        \"\"\"Format search results based on content type\"\"\"\n",
        "        formatted_sections = []\n",
        "\n",
        "        for result in results:\n",
        "            section = []\n",
        "            if result[\"heading\"]:\n",
        "                section.append(f\"## {result['heading']}\")\n",
        "\n",
        "            if result[\"type\"] == \"list\":\n",
        "                # Format list items\n",
        "                items = result[\"content\"].split('\\n')\n",
        "                section.extend(items)\n",
        "\n",
        "            elif result[\"type\"] == \"table\":  # Handle tables\n",
        "                table_str = result[\"content\"]\n",
        "                section.append(table_str)  # Directly append table string\n",
        "\n",
        "            else:\n",
        "                # Format regular text\n",
        "                section.append(result[\"content\"])\n",
        "\n",
        "            section.append(\"\\n\")  # Add spacing between sections\n",
        "            formatted_sections.append('\\n'.join(section))\n",
        "\n",
        "        return '\\n'.join(formatted_sections)\n",
        "\n",
        "    def process_training_documents(self):\n",
        "        \"\"\"Process all documents in the training directory\"\"\"\n",
        "        self.clear_directories()\n",
        "        processed_files = []\n",
        "        for filename in os.listdir(self.training_docs_path):\n",
        "            if filename.endswith(('.docx', '.pdf')):\n",
        "                file_path = os.path.join(self.training_docs_path, filename)\n",
        "                if self.process_document(file_path):\n",
        "                    processed_files.append(file_path)\n",
        "\n",
        "        logging.info(f\"Processed {len(processed_files)} training documents\")\n",
        "        return processed_files\n",
        "\n",
        "@asynccontextmanager\n",
        "async def lifespan(app: FastAPI):\n",
        "    # Startup (Only ngrok setup here)\n",
        "    try:\n",
        "        ngrok_token = userdata.get('ngrok_auth_token')\n",
        "        if ngrok_token:\n",
        "            ngrok.set_auth_token(ngrok_token)\n",
        "            tunnel = ngrok.connect(8000)  # Establish the tunnel\n",
        "            public_url = tunnel.public_url #Simplified\n",
        "            logging.info(f\"API available at: {public_url}\")\n",
        "            print(f\"API available at: {public_url}\") #Print to console too\n",
        "            app.state.ngrok_url = public_url #Store it in app.state\n",
        "        else:\n",
        "            logging.warning(\"ngrok_auth_token not found in Colab userdata\")\n",
        "\n",
        "    except Exception as e:\n",
        "        logging.error(f\"Error in ngrok setup (lifespan): {e}\")\n",
        "        logging.exception(\"Full traceback:\")  # Essential for debugging\n",
        "        raise  # Re-raise to prevent app start if ngrok fails\n",
        "\n",
        "    yield  # Important: Yield control to the app\n",
        "\n",
        "    # Shutdown (Only ngrok disconnect here)\n",
        "    try:\n",
        "        if hasattr(app.state, 'ngrok_url'):  # Check if ngrok was initialized\n",
        "            ngrok.disconnect(app.state.ngrok_url)\n",
        "    except Exception as e:\n",
        "        logging.error(f\"Error in ngrok shutdown: {e}\")\n",
        "        logging.exception(\"Full traceback:\")\n",
        "# FastAPI Setup\n",
        "app = FastAPI(lifespan=lifespan)\n",
        "\n",
        "class QueryInput(BaseModel):\n",
        "    inputs: str\n",
        "\n",
        "document_manager = None\n",
        "\n",
        "@app.post(\"/query\")\n",
        "async def query_endpoint(query: QueryInput):\n",
        "    \"\"\"Endpoint for querying the document database with improved response formatting\"\"\"\n",
        "    global document_manager\n",
        "    try:\n",
        "        logging.info(f\"Received query: {query.inputs}\")\n",
        "        response = document_manager.query(query.inputs, 10)\n",
        "        return response\n",
        "    except Exception as e:\n",
        "        logging.error(f\"Error in query endpoint: {e}\")\n",
        "        return [{\"generated_text\": \"Error processing query\"}]\n",
        "\n",
        "@app.get(\"/train\")\n",
        "async def train_endpoint():\n",
        "    \"\"\"Endpoint for training/updating the document database\"\"\"\n",
        "    global document_manager\n",
        "    try:\n",
        "        logging.info(\"Received training request\")\n",
        "        print(\"Initializing document manager...\")\n",
        "        document_manager = DocumentManager()\n",
        "        processed_files = document_manager.process_training_documents()\n",
        "        return [{\"generated_text\": f\"Successfully processed {len(processed_files)} documents\"}]\n",
        "        document_manager.load_index_state()\n",
        "    except Exception as e:\n",
        "        logging.error(f\"Error in train endpoint: {e}\")\n",
        "        return [{\"generated_text\": \"Error processing training request\"}]\n",
        "\n",
        "def main():\n",
        "    \"\"\"Main function to initialize and start the application\"\"\"\n",
        "    global document_manager\n",
        "    try:\n",
        "        # Initialize document manager\n",
        "        print(\"Initializing document manager...\")\n",
        "        document_manager = DocumentManager()\n",
        "\n",
        "        # Process training documents\n",
        "        print(\"Processing training documents...\")\n",
        "        processed_files = document_manager.process_training_documents()\n",
        "\n",
        "        if document_manager.index.ntotal > 0:\n",
        "            print(f\"Successfully processed {len(processed_files)} files\")\n",
        "            print(\"Starting server on http://0.0.0.0:8000\")\n",
        "            uvicorn.run(app, host=\"0.0.0.0\", port=8000)\n",
        "        else:\n",
        "            error_msg = \"No documents were processed. Server startup aborted.\"\n",
        "            logging.error(error_msg)\n",
        "            raise RuntimeError(error_msg)\n",
        "\n",
        "    except Exception as e:\n",
        "        error_msg = f\"Error in main: {str(e)}\"\n",
        "        logging.error(error_msg)\n",
        "        raise\n",
        "\n",
        "if __name__ == \"__main__\":\n",
        "    main()"
      ]
    }
  ]
}